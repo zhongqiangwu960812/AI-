{
 "cells": [
  {
   "cell_type": "markdown",
   "id": "voluntary-signal",
   "metadata": {},
   "source": [
    "## Description:\n",
    "这里是DIEN的一个demo， 主要分为数据读取与处理，模型搭建，模型的训练三大模块"
   ]
  },
  {
   "cell_type": "code",
   "execution_count": 1,
   "id": "metric-prediction",
   "metadata": {
    "ExecuteTime": {
     "end_time": "2021-03-06T14:27:25.960198Z",
     "start_time": "2021-03-06T14:27:22.079518Z"
    }
   },
   "outputs": [],
   "source": [
    "# python基础包\n",
    "import numpy as np\n",
    "import pandas as pd\n",
    "from collections import namedtuple\n",
    "import matplotlib.pyplot as plt\n",
    "\n",
    "# 特征处理与数据集划分\n",
    "from sklearn.preprocessing import OneHotEncoder, MinMaxScaler, StandardScaler, LabelEncoder\n",
    "from sklearn.model_selection import train_test_split\n",
    "from utils import DenseFeat, SparseFeat, VarLenSparseFeat\n",
    "\n",
    "# 导入模型\n",
    "from DIEN import DIEN\n",
    "\n",
    "# 模型训练相关\n",
    "import tensorflow as tf\n",
    "from tensorflow.keras.layers import *\n",
    "from tensorflow.keras.callbacks import EarlyStopping, ReduceLROnPlateau\n",
    "from tensorflow.keras.metrics import AUC\n",
    "from tensorflow.keras.losses import binary_crossentropy\n",
    "from tensorflow.keras.optimizers import Adam\n",
    "\n",
    "# 一些相关设置\n",
    "import warnings\n",
    "plt.style.use('fivethirtyeight')\n",
    "warnings.filterwarnings('ignore')"
   ]
  },
  {
   "cell_type": "markdown",
   "id": "better-vector",
   "metadata": {},
   "source": [
    "## 导入数据"
   ]
  },
  {
   "cell_type": "code",
   "execution_count": 2,
   "id": "hundred-rapid",
   "metadata": {
    "ExecuteTime": {
     "end_time": "2021-03-06T14:27:26.825982Z",
     "start_time": "2021-03-06T14:27:26.808988Z"
    }
   },
   "outputs": [],
   "source": [
    "\"\"\"读取数据\"\"\"\n",
    "samples_data = pd.read_csv(\"data/movie_sample.txt\", sep=\"\\t\", header = None)\n",
    "samples_data.columns = [\"user_id\", \"gender\", \"age\", \"hist_movie_id\", \"hist_len\", \"movie_id\", \"movie_type_id\", \"label\"]"
   ]
  },
  {
   "cell_type": "code",
   "execution_count": 3,
   "id": "trained-gibson",
   "metadata": {
    "ExecuteTime": {
     "end_time": "2021-03-06T14:27:28.089319Z",
     "start_time": "2021-03-06T14:27:28.050423Z"
    }
   },
   "outputs": [],
   "source": [
    "\"\"\"数据集\"\"\"\n",
    "X = samples_data[[\"user_id\", \"gender\", \"age\", \"hist_movie_id\", \"hist_len\", \"movie_id\", \"movie_type_id\"]]\n",
    "y = samples_data[\"label\"]\n",
    "\n",
    "# 这里设置个负采样数据， 目前是直接等于了hist_movie_id\n",
    "X['neg_hist_movie_id'] = X['hist_movie_id']\n",
    "behavior_len = np.array([len([int(i) for i in l.split(',') if int(i) != 0]) for l in X['hist_movie_id']])"
   ]
  },
  {
   "cell_type": "code",
   "execution_count": 4,
   "id": "forward-oriental",
   "metadata": {
    "ExecuteTime": {
     "end_time": "2021-03-06T14:27:29.446622Z",
     "start_time": "2021-03-06T14:27:29.398723Z"
    }
   },
   "outputs": [],
   "source": [
    "\"\"\"构建DIEN模型的输入格式\"\"\"\n",
    "# 这里和DIN相比， 会多出负采样的一列历史行为\n",
    "\n",
    "X_train = {\"user_id\": np.array(X[\"user_id\"]), \\\n",
    "        \"gender\": np.array(X[\"gender\"]), \\\n",
    "        \"age\": np.array(X[\"age\"]), \\\n",
    "        \"hist_movie_id\": np.array([[int(i) for i in l.split(',')] for l in X[\"hist_movie_id\"]]), \\\n",
    "        \"neg_hist_movie_id\": np.array([[int(i) for i in l.split(',')] for l in X[\"neg_hist_movie_id\"]]), \\\n",
    "        \"seq_length\": behavior_len, \\\n",
    "        \"hist_len\": np.array(X[\"hist_len\"]), \\\n",
    "        \"movie_id\": np.array(X[\"movie_id\"]), \\\n",
    "        \"movie_type_id\": np.array(X[\"movie_type_id\"])}\n",
    "\n",
    "y_train = np.array(y)"
   ]
  },
  {
   "cell_type": "markdown",
   "id": "touched-headquarters",
   "metadata": {},
   "source": [
    "## 模型建立"
   ]
  },
  {
   "cell_type": "code",
   "execution_count": 5,
   "id": "accompanied-camera",
   "metadata": {
    "ExecuteTime": {
     "end_time": "2021-03-06T14:27:31.362531Z",
     "start_time": "2021-03-06T14:27:31.356504Z"
    }
   },
   "outputs": [],
   "source": [
    "\"\"\"特征封装\"\"\"\n",
    "\n",
    "feature_columns = [SparseFeat('user_id', max(samples_data[\"user_id\"])+1, embedding_dim=8), \n",
    "                    SparseFeat('gender', max(samples_data[\"gender\"])+1, embedding_dim=8), \n",
    "                    SparseFeat('age', max(samples_data[\"age\"])+1, embedding_dim=8), \n",
    "                    SparseFeat('movie_id', max(samples_data[\"movie_id\"])+1, embedding_dim=8),\n",
    "                    SparseFeat('movie_type_id', max(samples_data[\"movie_type_id\"])+1, embedding_dim=8),\n",
    "                    DenseFeat('hist_len', 1)]\n",
    "feature_columns += [VarLenSparseFeat(SparseFeat('hist_movie_id', \n",
    "                                                vocabulary_size=max(samples_data[\"movie_id\"])+1,\n",
    "                                                embedding_dim=8,\n",
    "                                                embedding_name='item_id'), maxlen=50, length_name='seq_length')]\n",
    "feature_columns += [VarLenSparseFeat(SparseFeat('neg_hist_movie_id', \n",
    "                                                vocabulary_size=max(samples_data[\"movie_id\"])+1,\n",
    "                                                embedding_dim=8,\n",
    "                                                embedding_name='item_id'), maxlen=50, length_name='seq_length')]\n",
    "\n",
    "# 行为特征列表，表示的是基础特征\n",
    "behavior_feature_list = ['movie_id']\n",
    "# 行为序列特征\n",
    "behavior_seq_feature_list = ['hist_movie_id']"
   ]
  },
  {
   "cell_type": "code",
   "execution_count": 6,
   "id": "stylish-savannah",
   "metadata": {
    "ExecuteTime": {
     "end_time": "2021-03-06T14:27:32.581571Z",
     "start_time": "2021-03-06T14:27:32.571598Z"
    }
   },
   "outputs": [],
   "source": [
    "\"\"\"设置超参数\"\"\"\n",
    "learning_rate = 0.001\n",
    "batch_size = 64\n",
    "epochs = 50"
   ]
  },
  {
   "cell_type": "code",
   "execution_count": 7,
   "id": "suited-application",
   "metadata": {
    "ExecuteTime": {
     "end_time": "2021-03-06T14:27:39.734554Z",
     "start_time": "2021-03-06T14:27:34.232009Z"
    },
    "scrolled": true
   },
   "outputs": [
    {
     "name": "stdout",
     "output_type": "stream",
     "text": [
      "WARNING:tensorflow:From E:\\Jupyter Notebook\\GitHubRepositories\\AI-RecommenderSystem\\DIEN\\contrib\\rnn_v2.py:1049: to_int32 (from tensorflow.python.ops.math_ops) is deprecated and will be removed in a future version.\n",
      "Instructions for updating:\n",
      "Use `tf.cast` instead.\n",
      "WARNING:tensorflow:From c:\\users\\zhongqiangwu\\anaconda3\\envs\\tf2\\lib\\site-packages\\tensorflow\\python\\keras\\layers\\legacy_rnn\\rnn_cell_impl.py:577: calling Constant.__init__ (from tensorflow.python.ops.init_ops) with dtype is deprecated and will be removed in a future version.\n",
      "Instructions for updating:\n",
      "Call initializer instance with the dtype argument instead of passing it to the constructor\n",
      "WARNING:tensorflow:From c:\\users\\zhongqiangwu\\anaconda3\\envs\\tf2\\lib\\site-packages\\tensorflow\\python\\keras\\layers\\legacy_rnn\\rnn_cell_impl.py:587: calling Zeros.__init__ (from tensorflow.python.ops.init_ops) with dtype is deprecated and will be removed in a future version.\n",
      "Instructions for updating:\n",
      "Call initializer instance with the dtype argument instead of passing it to the constructor\n",
      "WARNING:tensorflow:From E:\\Jupyter Notebook\\GitHubRepositories\\AI-RecommenderSystem\\DIEN\\DIEN.py:376: The name tf.keras.backend.get_session is deprecated. Please use tf.compat.v1.keras.backend.get_session instead.\n",
      "\n",
      "Model: \"model\"\n",
      "__________________________________________________________________________________________________\n",
      "Layer (type)                    Output Shape         Param #     Connected to                     \n",
      "==================================================================================================\n",
      "hist_movie_id (InputLayer)      [(None, 50)]         0                                            \n",
      "__________________________________________________________________________________________________\n",
      "movie_id (InputLayer)           [(None, 1)]          0                                            \n",
      "__________________________________________________________________________________________________\n",
      "emb_hist_movie_id (Embedding)   (None, 50, 8)        1680        hist_movie_id[0][0]              \n",
      "__________________________________________________________________________________________________\n",
      "seq_length (InputLayer)         [(None, 1)]          0                                            \n",
      "__________________________________________________________________________________________________\n",
      "user_id (InputLayer)            [(None, 1)]          0                                            \n",
      "__________________________________________________________________________________________________\n",
      "gender (InputLayer)             [(None, 1)]          0                                            \n",
      "__________________________________________________________________________________________________\n",
      "age (InputLayer)                [(None, 1)]          0                                            \n",
      "__________________________________________________________________________________________________\n",
      "emb_movie_id (Embedding)        (None, 1, 8)         1672        movie_id[0][0]                   \n",
      "                                                                 movie_id[0][0]                   \n",
      "__________________________________________________________________________________________________\n",
      "movie_type_id (InputLayer)      [(None, 1)]          0                                            \n",
      "__________________________________________________________________________________________________\n",
      "dynamic_gru (DynamicGRU)        (None, 50, 8)        408         emb_hist_movie_id[0][0]          \n",
      "                                                                 seq_length[0][0]                 \n",
      "__________________________________________________________________________________________________\n",
      "emb_user_id (Embedding)         (None, 1, 8)         32          user_id[0][0]                    \n",
      "__________________________________________________________________________________________________\n",
      "emb_gender (Embedding)          (None, 1, 8)         24          gender[0][0]                     \n",
      "__________________________________________________________________________________________________\n",
      "emb_age (Embedding)             (None, 1, 8)         32          age[0][0]                        \n",
      "__________________________________________________________________________________________________\n",
      "emb_movie_type_id (Embedding)   (None, 1, 8)         80          movie_type_id[0][0]              \n",
      "__________________________________________________________________________________________________\n",
      "attention_pooling_layer (Attent (None, 1, 50)        72065       emb_movie_id[1][0]               \n",
      "                                                                 dynamic_gru[0][0]                \n",
      "__________________________________________________________________________________________________\n",
      "flatten (Flatten)               (None, 8)            0           emb_user_id[0][0]                \n",
      "__________________________________________________________________________________________________\n",
      "flatten_1 (Flatten)             (None, 8)            0           emb_gender[0][0]                 \n",
      "__________________________________________________________________________________________________\n",
      "flatten_2 (Flatten)             (None, 8)            0           emb_age[0][0]                    \n",
      "__________________________________________________________________________________________________\n",
      "flatten_3 (Flatten)             (None, 8)            0           emb_movie_id[0][0]               \n",
      "__________________________________________________________________________________________________\n",
      "flatten_4 (Flatten)             (None, 8)            0           emb_movie_type_id[0][0]          \n",
      "__________________________________________________________________________________________________\n",
      "permute (Permute)               (None, 50, 1)        0           attention_pooling_layer[0][0]    \n",
      "__________________________________________________________________________________________________\n",
      "hist_len (InputLayer)           [(None, 1)]          0                                            \n",
      "__________________________________________________________________________________________________\n",
      "concatenate (Concatenate)       (None, 40)           0           flatten[0][0]                    \n",
      "                                                                 flatten_1[0][0]                  \n",
      "                                                                 flatten_2[0][0]                  \n",
      "                                                                 flatten_3[0][0]                  \n",
      "                                                                 flatten_4[0][0]                  \n",
      "__________________________________________________________________________________________________\n",
      "dynamic_gru_1 (DynamicGRU)      (None, 8)            0           dynamic_gru[0][0]                \n",
      "                                                                 seq_length[0][0]                 \n",
      "                                                                 permute[0][0]                    \n",
      "__________________________________________________________________________________________________\n",
      "concatenate_1 (Concatenate)     (None, 49)           0           hist_len[0][0]                   \n",
      "                                                                 concatenate[0][0]                \n",
      "                                                                 dynamic_gru_1[0][0]              \n",
      "__________________________________________________________________________________________________\n",
      "dense_8 (Dense)                 (None, 200)          10200       concatenate_1[0][0]              \n",
      "__________________________________________________________________________________________________\n",
      "dense_9 (Dense)                 (None, 80)           16160       dense_8[0][0]                    \n",
      "__________________________________________________________________________________________________\n",
      "neg_hist_movie_id (InputLayer)  [(None, 50)]         0                                            \n",
      "__________________________________________________________________________________________________\n",
      "dense_10 (Dense)                (None, 1)            81          dense_9[0][0]                    \n",
      "__________________________________________________________________________________________________\n",
      "emb_neg_hist_movie_id (Embeddin (None, 50, 8)        1680        neg_hist_movie_id[0][0]          \n",
      "__________________________________________________________________________________________________\n",
      "tf_op_layer_strided_slice (Tens [(None, 49, 8)]      0           dynamic_gru[0][0]                \n",
      "__________________________________________________________________________________________________\n",
      "tf_op_layer_strided_slice_1 (Te [(None, 49, 8)]      0           emb_hist_movie_id[0][0]          \n",
      "__________________________________________________________________________________________________\n",
      "tf_op_layer_strided_slice_2 (Te [(None, 49, 8)]      0           emb_neg_hist_movie_id[0][0]      \n",
      "__________________________________________________________________________________________________\n",
      "tf_op_layer_concat (TensorFlowO [(None, 49, 16)]     0           tf_op_layer_strided_slice[0][0]  \n",
      "                                                                 tf_op_layer_strided_slice_1[0][0]\n",
      "__________________________________________________________________________________________________\n",
      "tf_op_layer_concat_1 (TensorFlo [(None, 49, 16)]     0           tf_op_layer_strided_slice[0][0]  \n",
      "                                                                 tf_op_layer_strided_slice_2[0][0]\n",
      "__________________________________________________________________________________________________\n",
      "dnn (DNN)                       (None, 49, 1)        6750        tf_op_layer_concat[0][0]         \n",
      "                                                                 tf_op_layer_concat_1[0][0]       \n",
      "__________________________________________________________________________________________________\n",
      "tf_op_layer_Sub (TensorFlowOpLa [(None, 1)]          0           seq_length[0][0]                 \n",
      "__________________________________________________________________________________________________\n",
      "tf_op_layer_Shape (TensorFlowOp [(3,)]               0           tf_op_layer_strided_slice_1[0][0]\n",
      "__________________________________________________________________________________________________\n",
      "tf_op_layer_SequenceMask/Expand [(None, 1, 1)]       0           tf_op_layer_Sub[0][0]            \n",
      "__________________________________________________________________________________________________\n",
      "tf_op_layer_strided_slice_5 (Te [(None, 49)]         0           dnn[1][0]                        \n",
      "__________________________________________________________________________________________________\n",
      "tf_op_layer_Shape_1 (TensorFlow [(3,)]               0           tf_op_layer_strided_slice_2[0][0]\n",
      "__________________________________________________________________________________________________\n",
      "tf_op_layer_strided_slice_4 (Te [(None, 49)]         0           dnn[0][0]                        \n",
      "__________________________________________________________________________________________________\n",
      "tf_op_layer_strided_slice_6 (Te [()]                 0           tf_op_layer_Shape[0][0]          \n",
      "__________________________________________________________________________________________________\n",
      "tf_op_layer_SequenceMask/Cast ( [(None, 1, 1)]       0           tf_op_layer_SequenceMask/ExpandDi\n",
      "__________________________________________________________________________________________________\n",
      "tf_op_layer_sub_1 (TensorFlowOp [(None, 49)]         0           tf_op_layer_strided_slice_5[0][0]\n",
      "__________________________________________________________________________________________________\n",
      "tf_op_layer_strided_slice_7 (Te [()]                 0           tf_op_layer_Shape_1[0][0]        \n",
      "__________________________________________________________________________________________________\n",
      "tf_op_layer_Log (TensorFlowOpLa [(None, 49)]         0           tf_op_layer_strided_slice_4[0][0]\n",
      "__________________________________________________________________________________________________\n",
      "tf_op_layer_Reshape/shape (Tens [(2,)]               0           tf_op_layer_strided_slice_6[0][0]\n",
      "__________________________________________________________________________________________________\n",
      "tf_op_layer_SequenceMask/Less ( [(None, 1, 49)]      0           tf_op_layer_SequenceMask/Cast[0][\n",
      "__________________________________________________________________________________________________\n",
      "tf_op_layer_Log_1 (TensorFlowOp [(None, 49)]         0           tf_op_layer_sub_1[0][0]          \n",
      "__________________________________________________________________________________________________\n",
      "tf_op_layer_Reshape_1/shape (Te [(2,)]               0           tf_op_layer_strided_slice_7[0][0]\n",
      "__________________________________________________________________________________________________\n",
      "tf_op_layer_Reshape (TensorFlow [(None, None)]       0           tf_op_layer_Log[0][0]            \n",
      "                                                                 tf_op_layer_Reshape/shape[0][0]  \n",
      "__________________________________________________________________________________________________\n",
      "tf_op_layer_strided_slice_3 (Te [(None, 49)]         0           tf_op_layer_SequenceMask/Less[0][\n",
      "__________________________________________________________________________________________________\n",
      "tf_op_layer_Reshape_1 (TensorFl [(None, None)]       0           tf_op_layer_Log_1[0][0]          \n",
      "                                                                 tf_op_layer_Reshape_1/shape[0][0]\n",
      "__________________________________________________________________________________________________\n",
      "tf_op_layer_Neg (TensorFlowOpLa [(None, None)]       0           tf_op_layer_Reshape[0][0]        \n",
      "__________________________________________________________________________________________________\n",
      "tf_op_layer_Cast (TensorFlowOpL [(None, 49)]         0           tf_op_layer_strided_slice_3[0][0]\n",
      "__________________________________________________________________________________________________\n",
      "tf_op_layer_Neg_1 (TensorFlowOp [(None, None)]       0           tf_op_layer_Reshape_1[0][0]      \n",
      "__________________________________________________________________________________________________\n",
      "tf_op_layer_mul (TensorFlowOpLa [(None, 49)]         0           tf_op_layer_Neg[0][0]            \n",
      "                                                                 tf_op_layer_Cast[0][0]           \n",
      "__________________________________________________________________________________________________\n",
      "tf_op_layer_mul_1 (TensorFlowOp [(None, 49)]         0           tf_op_layer_Neg_1[0][0]          \n",
      "                                                                 tf_op_layer_Cast[0][0]           \n",
      "__________________________________________________________________________________________________\n",
      "tf_op_layer_add (TensorFlowOpLa [(None, 49)]         0           tf_op_layer_mul[0][0]            \n",
      "                                                                 tf_op_layer_mul_1[0][0]          \n",
      "__________________________________________________________________________________________________\n",
      "tf_op_layer_Mean (TensorFlowOpL [()]                 0           tf_op_layer_add[0][0]            \n",
      "__________________________________________________________________________________________________\n",
      "tf_op_layer_mul_2 (TensorFlowOp [()]                 0           tf_op_layer_Mean[0][0]           \n",
      "__________________________________________________________________________________________________\n",
      "add_loss (AddLoss)              ()                   0           tf_op_layer_mul_2[0][0]          \n",
      "==================================================================================================\n",
      "Total params: 110,864\n",
      "Trainable params: 110,864\n",
      "Non-trainable params: 0\n",
      "__________________________________________________________________________________________________\n"
     ]
    }
   ],
   "source": [
    "\"\"\"构建DIN模型\"\"\"\n",
    "model = DIEN(feature_columns, behavior_feature_list, behavior_seq_feature_list, use_neg_sample=True)\n",
    "model.summary()"
   ]
  },
  {
   "cell_type": "code",
   "execution_count": 8,
   "id": "former-identifier",
   "metadata": {
    "ExecuteTime": {
     "end_time": "2021-03-06T14:27:42.544744Z",
     "start_time": "2021-03-06T14:27:42.412807Z"
    }
   },
   "outputs": [],
   "source": [
    "\"\"\"模型编译\"\"\"\n",
    "model.compile(loss=binary_crossentropy, optimizer=Adam(learning_rate=learning_rate), metrics=[AUC()])"
   ]
  },
  {
   "cell_type": "markdown",
   "id": "identified-scope",
   "metadata": {},
   "source": [
    "## 模型训练"
   ]
  },
  {
   "cell_type": "code",
   "execution_count": 9,
   "id": "impressive-renewal",
   "metadata": {
    "ExecuteTime": {
     "end_time": "2021-03-06T14:27:58.298571Z",
     "start_time": "2021-03-06T14:27:45.651308Z"
    }
   },
   "outputs": [
    {
     "name": "stdout",
     "output_type": "stream",
     "text": [
      "Train on 1104 samples, validate on 276 samples\n",
      "Epoch 1/50\n",
      "1104/1104 [==============================] - 2s 2ms/sample - loss: 1.5078 - auc: 0.4850 - val_loss: 0.8970 - val_auc: 0.4973\n",
      "Epoch 2/50\n",
      "1104/1104 [==============================] - 1s 692us/sample - loss: 0.9351 - auc: 0.4893 - val_loss: 0.7694 - val_auc: 0.4897\n",
      "Epoch 3/50\n",
      "1104/1104 [==============================] - 1s 711us/sample - loss: 0.7740 - auc: 0.5129 - val_loss: 0.6684 - val_auc: 0.4778\n",
      "Epoch 4/50\n",
      "1104/1104 [==============================] - 1s 764us/sample - loss: 0.7067 - auc: 0.4821 - val_loss: 0.6581 - val_auc: 0.3171\n",
      "Epoch 5/50\n",
      "1104/1104 [==============================] - 1s 716us/sample - loss: 0.6671 - auc: 0.4975 - val_loss: 0.6169 - val_auc: 0.2777\n",
      "Epoch 6/50\n",
      "1104/1104 [==============================] - 1s 765us/sample - loss: 0.6672 - auc: 0.4989 - val_loss: 0.6042 - val_auc: 0.3402\n",
      "Epoch 7/50\n",
      "1104/1104 [==============================] - 1s 726us/sample - loss: 0.6385 - auc: 0.4944 - val_loss: 0.6024 - val_auc: 0.2026\n",
      "Epoch 8/50\n",
      "1104/1104 [==============================] - 1s 724us/sample - loss: 0.6162 - auc: 0.5245 - val_loss: 0.6198 - val_auc: 0.2872\n",
      "Epoch 9/50\n",
      "1104/1104 [==============================] - 1s 753us/sample - loss: 0.6024 - auc: 0.5760 - val_loss: 0.6317 - val_auc: 0.2355\n",
      "Epoch 10/50\n",
      "1088/1104 [============================>.] - ETA: 0s - loss: 0.6160 - auc: 0.5413\n",
      "Epoch 00010: ReduceLROnPlateau reducing learning rate to 1.0000000474974514e-05.\n",
      "1104/1104 [==============================] - 1s 826us/sample - loss: 0.6162 - auc: 0.5404 - val_loss: 0.6174 - val_auc: 0.2110\n",
      "Epoch 11/50\n",
      "1104/1104 [==============================] - 1s 779us/sample - loss: 0.6066 - auc: 0.5711 - val_loss: 0.6146 - val_auc: 0.1922\n",
      "Epoch 12/50\n",
      "1104/1104 [==============================] - 1s 940us/sample - loss: 0.5919 - auc: 0.5860 - val_loss: 0.6117 - val_auc: 0.1659\n"
     ]
    }
   ],
   "source": [
    "\"\"\"模型训练\"\"\"\n",
    "callbacks = [\n",
    "    EarlyStopping(monitor='val_loss', patience=5, restore_best_weights=True),   # 早停\n",
    "    ReduceLROnPlateau(monitor='val_loss', patience=3, factor=0.01, verbose=1)  # 调整学习率\n",
    "]\n",
    "history = model.fit(X_train, \n",
    "                    y_train, \n",
    "                    epochs=epochs, \n",
    "                    validation_split=0.2, \n",
    "                    batch_size=batch_size,\n",
    "                    callbacks = callbacks\n",
    "                   )"
   ]
  },
  {
   "cell_type": "code",
   "execution_count": 10,
   "id": "thirty-tennis",
   "metadata": {
    "ExecuteTime": {
     "end_time": "2021-03-06T14:27:58.560532Z",
     "start_time": "2021-03-06T14:27:58.425604Z"
    }
   },
   "outputs": [
    {
     "data": {
      "image/png": "[encoded data removed]",
      "text/plain": [
       "<Figure size 432x288 with 1 Axes>"
      ]
     },
     "metadata": {},
     "output_type": "display_data"
    }
   ],
   "source": [
    "\"\"\"可视化下看看训练情况\"\"\"\n",
    "plt.plot(history.history['loss'])\n",
    "plt.plot(history.history['val_loss'])\n",
    "plt.title('Model loss')\n",
    "plt.ylabel('Loss')\n",
    "plt.xlabel('Epoch')\n",
    "plt.legend(['Train', 'Test'], loc='upper left')\n",
    "plt.show()"
   ]
  }
 ],
 "metadata": {
  "kernelspec": {
   "display_name": "Python 3",
   "language": "python",
   "name": "python3"
  },
  "language_info": {
   "codemirror_mode": {
    "name": "ipython",
    "version": 3
   },
   "file_extension": ".py",
   "mimetype": "text/x-python",
   "name": "python",
   "nbconvert_exporter": "python",
   "pygments_lexer": "ipython3",
   "version": "3.7.9"
  },
  "toc": {
   "base_numbering": 1,
   "nav_menu": {},
   "number_sections": true,
   "sideBar": true,
   "skip_h1_title": false,
   "title_cell": "Table of Contents",
   "title_sidebar": "Contents",
   "toc_cell": false,
   "toc_position": {},
   "toc_section_display": true,
   "toc_window_display": false
  },
  "varInspector": {
   "cols": {
    "lenName": 16,
    "lenType": 16,
    "lenVar": 40
   },
   "kernels_config": {
    "python": {
     "delete_cmd_postfix": "",
     "delete_cmd_prefix": "del ",
     "library": "var_list.py",
     "varRefreshCmd": "print(var_dic_list())"
    },
    "r": {
     "delete_cmd_postfix": ") ",
     "delete_cmd_prefix": "rm(",
     "library": "var_list.r",
     "varRefreshCmd": "cat(var_dic_list()) "
    }
   },
   "types_to_exclude": [
    "module",
    "function",
    "builtin_function_or_method",
    "instance",
    "_Feature"
   ],
   "window_display": false
  }
 },
 "nbformat": 4,
 "nbformat_minor": 5
}
