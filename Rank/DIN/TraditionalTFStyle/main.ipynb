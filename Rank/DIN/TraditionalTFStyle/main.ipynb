{
 "cells": [
  {
   "cell_type": "code",
   "execution_count": 8,
   "metadata": {
    "ExecuteTime": {
     "end_time": "2021-02-18T02:26:05.966845Z",
     "start_time": "2021-02-18T02:26:05.955833Z"
    }
   },
   "outputs": [],
   "source": [
    "import numpy as np\n",
    "import pandas as pd\n",
    "import pickle\n",
    "import random\n",
    "from tqdm import tqdm\n",
    "from time import time\n",
    "\n",
    "import matplotlib.pyplot as plt\n",
    "plt.style.use('fivethirtyeight')\n",
    "\n",
    "from tensorflow.keras.callbacks import EarlyStopping, ReduceLROnPlateau\n",
    "from tensorflow.keras.optimizers import Adam\n",
    "from tensorflow.keras.metrics import AUC\n",
    "from tensorflow.keras.losses import binary_crossentropy\n",
    "\n",
    "from DIN import DIN\n",
    "from data_crecate import create_amazon_electronic_dataset\n",
    "\n",
    "import warnings\n",
    "warnings.filterwarnings('ignore')"
   ]
  },
  {
   "cell_type": "code",
   "execution_count": 2,
   "metadata": {
    "ExecuteTime": {
     "end_time": "2021-02-18T02:20:33.701466Z",
     "start_time": "2021-02-18T02:20:24.637678Z"
    }
   },
   "outputs": [
    {
     "name": "stdout",
     "output_type": "stream",
     "text": [
      "=========Data Preprocess Start===========\n"
     ]
    },
    {
     "name": "stderr",
     "output_type": "stream",
     "text": [
      "100%|███████████████████████████████████████████████████████████████████████| 100000/100000 [00:07<00:00, 12991.31it/s]\n"
     ]
    },
    {
     "name": "stdout",
     "output_type": "stream",
     "text": [
      "=================Padding================\n",
      "===========Data Preprocess End====================\n"
     ]
    }
   ],
   "source": [
    "\"\"\"数据生成\"\"\"\n",
    "file_name = './dataset/remap.pkl'\n",
    "feature_columns, behavior_list, (train_X, train_y), (val_X, val_y), (test_X, test_y) = create_amazon_electronic_dataset(file_name)"
   ]
  },
  {
   "cell_type": "code",
   "execution_count": 3,
   "metadata": {
    "ExecuteTime": {
     "end_time": "2021-02-18T02:20:41.152542Z",
     "start_time": "2021-02-18T02:20:41.149508Z"
    },
    "run_control": {
     "marked": true
    }
   },
   "outputs": [],
   "source": [
    "\"\"\"超参数设置\"\"\"\n",
    "maxlen = 40\n",
    "embed_dim = 8\n",
    "att_hidden_units = [80, 40]\n",
    "ffn_hidden_units = [256, 128, 64]\n",
    "dnn_dropout = 0.5\n",
    "att_activation = 'sigmoid'\n",
    "ffn_activation = 'prelu'\n",
    "\n",
    "learning_rate = 0.001\n",
    "batch_size = 64\n",
    "epochs = 50"
   ]
  },
  {
   "cell_type": "code",
   "execution_count": 4,
   "metadata": {
    "ExecuteTime": {
     "end_time": "2021-02-18T02:20:43.045436Z",
     "start_time": "2021-02-18T02:20:42.741251Z"
    }
   },
   "outputs": [
    {
     "name": "stdout",
     "output_type": "stream",
     "text": [
      "Model: \"model\"\n",
      "__________________________________________________________________________________________________\n",
      "Layer (type)                    Output Shape         Param #     Connected to                     \n",
      "==================================================================================================\n",
      "input_4 (InputLayer)            [(None, 1)]          0                                            \n",
      "__________________________________________________________________________________________________\n",
      "input_3 (InputLayer)            [(None, 40, 1)]      0                                            \n",
      "__________________________________________________________________________________________________\n",
      "tf.__operators__.getitem_2 (Sli (None,)              0           input_4[0][0]                    \n",
      "__________________________________________________________________________________________________\n",
      "tf.__operators__.getitem_1 (Sli (None, 40)           0           input_3[0][0]                    \n",
      "__________________________________________________________________________________________________\n",
      "tf.__operators__.getitem (Slici (None, 40)           0           input_3[0][0]                    \n",
      "__________________________________________________________________________________________________\n",
      "embedding (Embedding)           multiple             218128      tf.__operators__.getitem_1[0][0] \n",
      "                                                                 tf.__operators__.getitem_2[0][0] \n",
      "__________________________________________________________________________________________________\n",
      "tf.math.not_equal (TFOpLambda)  (None, 40)           0           tf.__operators__.getitem[0][0]   \n",
      "__________________________________________________________________________________________________\n",
      "tf.identity_1 (TFOpLambda)      (None, 8)            0           embedding[1][0]                  \n",
      "__________________________________________________________________________________________________\n",
      "tf.identity (TFOpLambda)        (None, 40, 8)        0           embedding[0][0]                  \n",
      "__________________________________________________________________________________________________\n",
      "tf.cast (TFOpLambda)            (None, 40)           0           tf.math.not_equal[0][0]          \n",
      "__________________________________________________________________________________________________\n",
      "attention_layer (Attention_laye (None, 8)            5921        tf.identity_1[0][0]              \n",
      "                                                                 tf.identity[0][0]                \n",
      "                                                                 tf.identity[0][0]                \n",
      "                                                                 tf.cast[0][0]                    \n",
      "__________________________________________________________________________________________________\n",
      "tf.concat (TFOpLambda)          (None, 16)           0           attention_layer[0][0]            \n",
      "                                                                 tf.identity_1[0][0]              \n",
      "__________________________________________________________________________________________________\n",
      "batch_normalization (BatchNorma (None, 16)           64          tf.concat[0][0]                  \n",
      "__________________________________________________________________________________________________\n",
      "dense_3 (Dense)                 (None, 256)          4608        batch_normalization[0][0]        \n",
      "__________________________________________________________________________________________________\n",
      "dense_4 (Dense)                 (None, 128)          33024       dense_3[0][0]                    \n",
      "__________________________________________________________________________________________________\n",
      "dense_5 (Dense)                 (None, 64)           8320        dense_4[0][0]                    \n",
      "__________________________________________________________________________________________________\n",
      "dropout (Dropout)               (None, 64)           0           dense_5[0][0]                    \n",
      "__________________________________________________________________________________________________\n",
      "dense_6 (Dense)                 (None, 1)            65          dropout[0][0]                    \n",
      "__________________________________________________________________________________________________\n",
      "input_1 (InputLayer)            [(None, 0)]          0                                            \n",
      "__________________________________________________________________________________________________\n",
      "input_2 (InputLayer)            [(None, 0)]          0                                            \n",
      "__________________________________________________________________________________________________\n",
      "tf.math.sigmoid (TFOpLambda)    (None, 1)            0           dense_6[0][0]                    \n",
      "==================================================================================================\n",
      "Total params: 270,130\n",
      "Trainable params: 270,098\n",
      "Non-trainable params: 32\n",
      "__________________________________________________________________________________________________\n"
     ]
    }
   ],
   "source": [
    "\"\"\"模型建立\"\"\"\n",
    "model = DIN(feature_columns, behavior_list, att_hidden_units, ffn_hidden_units, att_activation, ffn_activation, maxlen, dnn_dropout)\n",
    "model.summary()"
   ]
  },
  {
   "cell_type": "code",
   "execution_count": 5,
   "metadata": {
    "ExecuteTime": {
     "end_time": "2021-02-18T02:20:45.500867Z",
     "start_time": "2021-02-18T02:20:45.485950Z"
    }
   },
   "outputs": [],
   "source": [
    "\"\"\"模型编译\"\"\"\n",
    "model.compile(loss=binary_crossentropy, optimizer=Adam(learning_rate=learning_rate), metrics=[AUC()])"
   ]
  },
  {
   "cell_type": "code",
   "execution_count": 6,
   "metadata": {
    "ExecuteTime": {
     "end_time": "2021-02-18T02:20:58.418360Z",
     "start_time": "2021-02-18T02:20:46.661764Z"
    }
   },
   "outputs": [
    {
     "name": "stdout",
     "output_type": "stream",
     "text": [
      "Epoch 1/50\n",
      "303/303 [==============================] - 3s 6ms/step - loss: 0.5946 - auc: 0.7442 - val_loss: 0.7480 - val_auc: 0.8460\n",
      "Epoch 2/50\n",
      "303/303 [==============================] - 1s 5ms/step - loss: 0.1950 - auc: 0.9783 - val_loss: 0.4486 - val_auc: 0.8951\n",
      "Epoch 3/50\n",
      "303/303 [==============================] - 1s 5ms/step - loss: 0.0513 - auc: 0.9986 - val_loss: 0.7335 - val_auc: 0.8884\n",
      "Epoch 4/50\n",
      "303/303 [==============================] - 1s 5ms/step - loss: 0.0252 - auc: 0.9997 - val_loss: 0.9171 - val_auc: 0.8756\n",
      "Epoch 5/50\n",
      "303/303 [==============================] - 1s 5ms/step - loss: 0.0234 - auc: 0.9996 - val_loss: 0.9259 - val_auc: 0.8732\n",
      "\n",
      "Epoch 00005: ReduceLROnPlateau reducing learning rate to 1.0000000474974514e-05.\n",
      "Epoch 6/50\n",
      "303/303 [==============================] - 2s 5ms/step - loss: 0.0255 - auc: 0.9995 - val_loss: 0.8943 - val_auc: 0.8764\n",
      "Epoch 7/50\n",
      "303/303 [==============================] - 1s 5ms/step - loss: 0.0177 - auc: 0.9999 - val_loss: 0.8851 - val_auc: 0.8779\n"
     ]
    }
   ],
   "source": [
    "\"\"\"模型训练\"\"\"\n",
    "callbacks = [\n",
    "    EarlyStopping(monitor='val_loss', patience=5, restore_best_weights=True),   # 早停\n",
    "    ReduceLROnPlateau(monitor='val_loss', patience=3, factor=0.01, verbose=1)  # 调整学习率\n",
    "]\n",
    "history = model.fit(train_X, \n",
    "                    train_y, \n",
    "                    epochs=epochs, \n",
    "                    validation_data=(val_X, val_y), \n",
    "                    batch_size=batch_size,\n",
    "                    callbacks = callbacks\n",
    "                   )"
   ]
  },
  {
   "cell_type": "code",
   "execution_count": 9,
   "metadata": {
    "ExecuteTime": {
     "end_time": "2021-02-18T02:26:11.213230Z",
     "start_time": "2021-02-18T02:26:11.068157Z"
    }
   },
   "outputs": [
    {
     "data": {
      "image/png": "[encoded data removed]",
      "text/plain": [
       "<Figure size 432x288 with 1 Axes>"
      ]
     },
     "metadata": {},
     "output_type": "display_data"
    }
   ],
   "source": [
    "\"\"\"可视化下看看训练情况\"\"\"\n",
    "plt.plot(history.history['loss'])\n",
    "plt.plot(history.history['val_loss'])\n",
    "plt.title('Model loss')\n",
    "plt.ylabel('Loss')\n",
    "plt.xlabel('Epoch')\n",
    "plt.legend(['Train', 'Test'], loc='upper left')\n",
    "plt.show()"
   ]
  },
  {
   "cell_type": "markdown",
   "metadata": {},
   "source": [
    "这里发现1个epoch的时候，后面就开始过拟合了。我这次用的数据量太小了。"
   ]
  },
  {
   "cell_type": "code",
   "execution_count": 10,
   "metadata": {
    "ExecuteTime": {
     "end_time": "2021-02-18T02:26:21.567143Z",
     "start_time": "2021-02-18T02:26:20.108973Z"
    }
   },
   "outputs": [
    {
     "name": "stdout",
     "output_type": "stream",
     "text": [
      "1054/1054 [==============================] - 1s 1ms/step - loss: 1.1714 - auc: 0.6439\n",
      "test AUC: 0.643948\n"
     ]
    }
   ],
   "source": [
    "\"\"\"模型评估\"\"\"\n",
    "print('test AUC: %f' % model.evaluate(test_X, test_y)[1])"
   ]
  }
 ],
 "metadata": {
  "kernelspec": {
   "display_name": "Python 3",
   "language": "python",
   "name": "python3"
  },
  "language_info": {
   "codemirror_mode": {
    "name": "ipython",
    "version": 3
   },
   "file_extension": ".py",
   "mimetype": "text/x-python",
   "name": "python",
   "nbconvert_exporter": "python",
   "pygments_lexer": "ipython3",
   "version": "3.7.9"
  },
  "toc": {
   "base_numbering": 1,
   "nav_menu": {},
   "number_sections": true,
   "sideBar": true,
   "skip_h1_title": false,
   "title_cell": "Table of Contents",
   "title_sidebar": "Contents",
   "toc_cell": false,
   "toc_position": {},
   "toc_section_display": true,
   "toc_window_display": false
  },
  "varInspector": {
   "cols": {
    "lenName": 16,
    "lenType": 16,
    "lenVar": 40
   },
   "kernels_config": {
    "python": {
     "delete_cmd_postfix": "",
     "delete_cmd_prefix": "del ",
     "library": "var_list.py",
     "varRefreshCmd": "print(var_dic_list())"
    },
    "r": {
     "delete_cmd_postfix": ") ",
     "delete_cmd_prefix": "rm(",
     "library": "var_list.r",
     "varRefreshCmd": "cat(var_dic_list()) "
    }
   },
   "types_to_exclude": [
    "module",
    "function",
    "builtin_function_or_method",
    "instance",
    "_Feature"
   ],
   "window_display": false
  }
 },
 "nbformat": 4,
 "nbformat_minor": 2
}
