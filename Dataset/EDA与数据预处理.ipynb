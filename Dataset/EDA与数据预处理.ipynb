{
 "cells": [
  {
   "cell_type": "markdown",
   "id": "8644579b",
   "metadata": {},
   "source": [
    "## Description:\n",
    "这个笔记本主要是分析下数据与简单的数据预处理，主要包括：\n",
    "1. 数据简单分析，聚焦用户的点击序列\n",
    "2. 数据预处理主要是用户数据的性别，年龄确定与编码， 文章画像数据的缺失值填充与编码\n",
    "3. 日志数据拼接上用户和文章画像，并保存"
   ]
  },
  {
   "cell_type": "markdown",
   "id": "5ed72ed9",
   "metadata": {},
   "source": [
    "## 导入包"
   ]
  },
  {
   "cell_type": "code",
   "execution_count": 1,
   "id": "ba3b96d0",
   "metadata": {},
   "outputs": [],
   "source": [
    "import os\n",
    "import time\n",
    "import random\n",
    "from datetime import datetime\n",
    "\n",
    "import numpy as np\n",
    "import pandas as pd\n",
    "import matplotlib.pyplot as plt\n",
    "\n",
    "import warnings\n",
    "warnings.filterwarnings('ignore')"
   ]
  },
  {
   "cell_type": "markdown",
   "id": "ba45105c",
   "metadata": {},
   "source": [
    "## 导入数据集"
   ]
  },
  {
   "cell_type": "code",
   "execution_count": 2,
   "id": "12a69b53",
   "metadata": {},
   "outputs": [],
   "source": [
    "base_path = 'all_data'\n",
    "doc_info_path = os.path.join(base_path, 'doc_info.txt')\n",
    "train_data_path = os.path.join(base_path, 'sample_2w_data.csv')\n",
    "user_info_path = os.path.join(base_path, 'user_info.txt')"
   ]
  },
  {
   "cell_type": "code",
   "execution_count": 33,
   "id": "f799b716",
   "metadata": {},
   "outputs": [],
   "source": [
    "# 读取数据\n",
    "doc_info = pd.read_csv(doc_info_path, delimiter='\\t', names=['article_id', 'title','ctime', 'img_num', 'cat_1', 'cat_2', 'key_words'])\n",
    "train_data = pd.read_csv(train_data_path)\n",
    "user_info = pd.read_csv(user_info_path, delimiter='\\t', names=['user_id', 'device', 'os', 'province', 'city', 'age', 'gender'])"
   ]
  },
  {
   "cell_type": "code",
   "execution_count": 4,
   "id": "9255152f",
   "metadata": {},
   "outputs": [
    {
     "name": "stdout",
     "output_type": "stream",
     "text": [
      "(592749, 7) (3939989, 8) (1538384, 7)\n"
     ]
    }
   ],
   "source": [
    "print(doc_info.shape, train_data.shape, user_info.shape)"
   ]
  },
  {
   "cell_type": "markdown",
   "id": "38aee5e0",
   "metadata": {},
   "source": [
    "## 初识数据"
   ]
  },
  {
   "cell_type": "code",
   "execution_count": 5,
   "id": "d389238c",
   "metadata": {},
   "outputs": [
    {
     "data": {
      "text/html": [
       "<div>\n",
       "<style scoped>\n",
       "    .dataframe tbody tr th:only-of-type {\n",
       "        vertical-align: middle;\n",
       "    }\n",
       "\n",
       "    .dataframe tbody tr th {\n",
       "        vertical-align: top;\n",
       "    }\n",
       "\n",
       "    .dataframe thead th {\n",
       "        text-align: right;\n",
       "    }\n",
       "</style>\n",
       "<table border=\"1\" class=\"dataframe\">\n",
       "  <thead>\n",
       "    <tr style=\"text-align: right;\">\n",
       "      <th></th>\n",
       "      <th>article_id</th>\n",
       "      <th>title</th>\n",
       "      <th>ctime</th>\n",
       "      <th>img_num</th>\n",
       "      <th>cat_1</th>\n",
       "      <th>cat_2</th>\n",
       "      <th>key_words</th>\n",
       "    </tr>\n",
       "  </thead>\n",
       "  <tbody>\n",
       "    <tr>\n",
       "      <th>0</th>\n",
       "      <td>349635709</td>\n",
       "      <td>拿到c1驾照后,实习期扣分了会怎样?扣12分驾照会吊销么?</td>\n",
       "      <td>1572519971000</td>\n",
       "      <td>9</td>\n",
       "      <td>汽车</td>\n",
       "      <td>汽车/用车</td>\n",
       "      <td>上班族:8.469502,买车:8.137443,二手车:9.022247,副页:11.21...</td>\n",
       "    </tr>\n",
       "    <tr>\n",
       "      <th>1</th>\n",
       "      <td>361653323</td>\n",
       "      <td>疫情谣言粉碎机丨接种新冠疫苗后用麻药或致死?盘点最新疫情谣言,别被忽悠了</td>\n",
       "      <td>1624522285000</td>\n",
       "      <td>1</td>\n",
       "      <td>健康</td>\n",
       "      <td>健康/疾病防护治疗及西医用药</td>\n",
       "      <td>医生:14.760494,吸烟:16.474872,板蓝根:15.597788,板蓝根^^熏...</td>\n",
       "    </tr>\n",
       "    <tr>\n",
       "      <th>2</th>\n",
       "      <td>426732705</td>\n",
       "      <td>实拍本田飞度:空间真大,8万出头工薪族可选,但内饰能忍?</td>\n",
       "      <td>1610808303000</td>\n",
       "      <td>9</td>\n",
       "      <td>汽车</td>\n",
       "      <td>汽车/买车</td>\n",
       "      <td>155n:8.979802,polo:7.951116,中控台:5.954278,中网:7....</td>\n",
       "    </tr>\n",
       "    <tr>\n",
       "      <th>3</th>\n",
       "      <td>430221183</td>\n",
       "      <td>搭载135kw电机比亚迪秦plus纯电动版外观更精致</td>\n",
       "      <td>1612581556000</td>\n",
       "      <td>2</td>\n",
       "      <td>汽车</td>\n",
       "      <td>汽车/买车</td>\n",
       "      <td>etc:12.055207,代表:8.878175,内饰:5.342025,刀片:9.453...</td>\n",
       "    </tr>\n",
       "    <tr>\n",
       "      <th>4</th>\n",
       "      <td>441756326</td>\n",
       "      <td>【提车作业】不顾他人眼光帕萨特phev俘获30老男人浪子心</td>\n",
       "      <td>1618825835000</td>\n",
       "      <td>23</td>\n",
       "      <td>汽车</td>\n",
       "      <td>汽车/买车</td>\n",
       "      <td>丰田凯美瑞:12.772149,充电器:8.394001,品牌:8.436843,城市:7....</td>\n",
       "    </tr>\n",
       "  </tbody>\n",
       "</table>\n",
       "</div>"
      ],
      "text/plain": [
       "   article_id                                 title          ctime img_num  \\\n",
       "0   349635709         拿到c1驾照后,实习期扣分了会怎样?扣12分驾照会吊销么?  1572519971000       9   \n",
       "1   361653323  疫情谣言粉碎机丨接种新冠疫苗后用麻药或致死?盘点最新疫情谣言,别被忽悠了  1624522285000       1   \n",
       "2   426732705          实拍本田飞度:空间真大,8万出头工薪族可选,但内饰能忍?  1610808303000       9   \n",
       "3   430221183            搭载135kw电机比亚迪秦plus纯电动版外观更精致  1612581556000       2   \n",
       "4   441756326         【提车作业】不顾他人眼光帕萨特phev俘获30老男人浪子心  1618825835000      23   \n",
       "\n",
       "  cat_1           cat_2                                          key_words  \n",
       "0    汽车           汽车/用车  上班族:8.469502,买车:8.137443,二手车:9.022247,副页:11.21...  \n",
       "1    健康  健康/疾病防护治疗及西医用药  医生:14.760494,吸烟:16.474872,板蓝根:15.597788,板蓝根^^熏...  \n",
       "2    汽车           汽车/买车  155n:8.979802,polo:7.951116,中控台:5.954278,中网:7....  \n",
       "3    汽车           汽车/买车  etc:12.055207,代表:8.878175,内饰:5.342025,刀片:9.453...  \n",
       "4    汽车           汽车/买车  丰田凯美瑞:12.772149,充电器:8.394001,品牌:8.436843,城市:7....  "
      ]
     },
     "execution_count": 5,
     "metadata": {},
     "output_type": "execute_result"
    }
   ],
   "source": [
    "doc_info.head()"
   ]
  },
  {
   "cell_type": "code",
   "execution_count": 6,
   "id": "d19c4897",
   "metadata": {},
   "outputs": [
    {
     "data": {
      "text/html": [
       "<div>\n",
       "<style scoped>\n",
       "    .dataframe tbody tr th:only-of-type {\n",
       "        vertical-align: middle;\n",
       "    }\n",
       "\n",
       "    .dataframe tbody tr th {\n",
       "        vertical-align: top;\n",
       "    }\n",
       "\n",
       "    .dataframe thead th {\n",
       "        text-align: right;\n",
       "    }\n",
       "</style>\n",
       "<table border=\"1\" class=\"dataframe\">\n",
       "  <thead>\n",
       "    <tr style=\"text-align: right;\">\n",
       "      <th></th>\n",
       "      <th>user_id</th>\n",
       "      <th>device</th>\n",
       "      <th>os</th>\n",
       "      <th>province</th>\n",
       "      <th>city</th>\n",
       "      <th>age</th>\n",
       "      <th>gender</th>\n",
       "    </tr>\n",
       "  </thead>\n",
       "  <tbody>\n",
       "    <tr>\n",
       "      <th>0</th>\n",
       "      <td>1000372820</td>\n",
       "      <td>TAS-AN00</td>\n",
       "      <td>Android</td>\n",
       "      <td>广东</td>\n",
       "      <td>广州</td>\n",
       "      <td>A_0_24:0.404616,A_25_29:0.059027,A_30_39:0.516...</td>\n",
       "      <td>female:0.051339,male:0.948661</td>\n",
       "    </tr>\n",
       "    <tr>\n",
       "      <th>1</th>\n",
       "      <td>1000652892</td>\n",
       "      <td>PACM00</td>\n",
       "      <td>Android</td>\n",
       "      <td>河北</td>\n",
       "      <td>唐山</td>\n",
       "      <td>A_0_24:0.615458,A_25_29:0.086233,A_30_39:0.141...</td>\n",
       "      <td>female:0.280295,male:0.719705</td>\n",
       "    </tr>\n",
       "    <tr>\n",
       "      <th>2</th>\n",
       "      <td>1000908852</td>\n",
       "      <td>MI6X</td>\n",
       "      <td>Android</td>\n",
       "      <td>上海</td>\n",
       "      <td>上海</td>\n",
       "      <td>A_0_24:0.123255,A_25_29:0.208225,A_30_39:0.298...</td>\n",
       "      <td>female:0.000000,male:1.000000</td>\n",
       "    </tr>\n",
       "    <tr>\n",
       "      <th>3</th>\n",
       "      <td>1001168798</td>\n",
       "      <td>iPhone11</td>\n",
       "      <td>IOS</td>\n",
       "      <td>NaN</td>\n",
       "      <td>NaN</td>\n",
       "      <td>A_0_24:0.436296,A_25_29:0.489370,A_30_39:0.061...</td>\n",
       "      <td>female:0.870710,male:0.129290</td>\n",
       "    </tr>\n",
       "    <tr>\n",
       "      <th>4</th>\n",
       "      <td>1001305614</td>\n",
       "      <td>M2103K19C</td>\n",
       "      <td>Android</td>\n",
       "      <td>江苏</td>\n",
       "      <td>苏州</td>\n",
       "      <td>A_0_24:0.006632,A_25_29:0.043408,A_30_39:0.350...</td>\n",
       "      <td>female:0.000000,male:1.000000</td>\n",
       "    </tr>\n",
       "  </tbody>\n",
       "</table>\n",
       "</div>"
      ],
      "text/plain": [
       "      user_id     device       os province city  \\\n",
       "0  1000372820   TAS-AN00  Android       广东   广州   \n",
       "1  1000652892     PACM00  Android       河北   唐山   \n",
       "2  1000908852       MI6X  Android       上海   上海   \n",
       "3  1001168798   iPhone11      IOS      NaN  NaN   \n",
       "4  1001305614  M2103K19C  Android       江苏   苏州   \n",
       "\n",
       "                                                 age  \\\n",
       "0  A_0_24:0.404616,A_25_29:0.059027,A_30_39:0.516...   \n",
       "1  A_0_24:0.615458,A_25_29:0.086233,A_30_39:0.141...   \n",
       "2  A_0_24:0.123255,A_25_29:0.208225,A_30_39:0.298...   \n",
       "3  A_0_24:0.436296,A_25_29:0.489370,A_30_39:0.061...   \n",
       "4  A_0_24:0.006632,A_25_29:0.043408,A_30_39:0.350...   \n",
       "\n",
       "                          gender  \n",
       "0  female:0.051339,male:0.948661  \n",
       "1  female:0.280295,male:0.719705  \n",
       "2  female:0.000000,male:1.000000  \n",
       "3  female:0.870710,male:0.129290  \n",
       "4  female:0.000000,male:1.000000  "
      ]
     },
     "execution_count": 6,
     "metadata": {},
     "output_type": "execute_result"
    }
   ],
   "source": [
    "user_info.head()"
   ]
  },
  {
   "cell_type": "code",
   "execution_count": 7,
   "id": "18c83118",
   "metadata": {},
   "outputs": [
    {
     "data": {
      "text/html": [
       "<div>\n",
       "<style scoped>\n",
       "    .dataframe tbody tr th:only-of-type {\n",
       "        vertical-align: middle;\n",
       "    }\n",
       "\n",
       "    .dataframe tbody tr th {\n",
       "        vertical-align: top;\n",
       "    }\n",
       "\n",
       "    .dataframe thead th {\n",
       "        text-align: right;\n",
       "    }\n",
       "</style>\n",
       "<table border=\"1\" class=\"dataframe\">\n",
       "  <thead>\n",
       "    <tr style=\"text-align: right;\">\n",
       "      <th></th>\n",
       "      <th>user_id</th>\n",
       "      <th>article_id</th>\n",
       "      <th>expo_time</th>\n",
       "      <th>net_status</th>\n",
       "      <th>flush_nums</th>\n",
       "      <th>exop_position</th>\n",
       "      <th>click</th>\n",
       "      <th>duration</th>\n",
       "    </tr>\n",
       "  </thead>\n",
       "  <tbody>\n",
       "    <tr>\n",
       "      <th>0</th>\n",
       "      <td>1000541010</td>\n",
       "      <td>464467760</td>\n",
       "      <td>2021-06-30 09:57:14</td>\n",
       "      <td>2</td>\n",
       "      <td>0</td>\n",
       "      <td>13</td>\n",
       "      <td>1</td>\n",
       "      <td>28</td>\n",
       "    </tr>\n",
       "    <tr>\n",
       "      <th>1</th>\n",
       "      <td>1000541010</td>\n",
       "      <td>463850913</td>\n",
       "      <td>2021-06-30 09:57:14</td>\n",
       "      <td>2</td>\n",
       "      <td>0</td>\n",
       "      <td>15</td>\n",
       "      <td>0</td>\n",
       "      <td>0</td>\n",
       "    </tr>\n",
       "    <tr>\n",
       "      <th>2</th>\n",
       "      <td>1000541010</td>\n",
       "      <td>464022440</td>\n",
       "      <td>2021-06-30 09:57:14</td>\n",
       "      <td>2</td>\n",
       "      <td>0</td>\n",
       "      <td>17</td>\n",
       "      <td>0</td>\n",
       "      <td>0</td>\n",
       "    </tr>\n",
       "    <tr>\n",
       "      <th>3</th>\n",
       "      <td>1000541010</td>\n",
       "      <td>464586545</td>\n",
       "      <td>2021-06-30 09:58:31</td>\n",
       "      <td>2</td>\n",
       "      <td>1</td>\n",
       "      <td>20</td>\n",
       "      <td>0</td>\n",
       "      <td>0</td>\n",
       "    </tr>\n",
       "    <tr>\n",
       "      <th>4</th>\n",
       "      <td>1000541010</td>\n",
       "      <td>465352885</td>\n",
       "      <td>2021-07-03 18:13:03</td>\n",
       "      <td>5</td>\n",
       "      <td>0</td>\n",
       "      <td>18</td>\n",
       "      <td>0</td>\n",
       "      <td>0</td>\n",
       "    </tr>\n",
       "  </tbody>\n",
       "</table>\n",
       "</div>"
      ],
      "text/plain": [
       "      user_id  article_id            expo_time  net_status  flush_nums  \\\n",
       "0  1000541010   464467760  2021-06-30 09:57:14           2           0   \n",
       "1  1000541010   463850913  2021-06-30 09:57:14           2           0   \n",
       "2  1000541010   464022440  2021-06-30 09:57:14           2           0   \n",
       "3  1000541010   464586545  2021-06-30 09:58:31           2           1   \n",
       "4  1000541010   465352885  2021-07-03 18:13:03           5           0   \n",
       "\n",
       "   exop_position  click  duration  \n",
       "0             13      1        28  \n",
       "1             15      0         0  \n",
       "2             17      0         0  \n",
       "3             20      0         0  \n",
       "4             18      0         0  "
      ]
     },
     "execution_count": 7,
     "metadata": {},
     "output_type": "execute_result"
    }
   ],
   "source": [
    "train_data.head()"
   ]
  },
  {
   "cell_type": "code",
   "execution_count": 8,
   "id": "007e555c",
   "metadata": {},
   "outputs": [
    {
     "data": {
      "text/plain": [
       "20000"
      ]
     },
     "execution_count": 8,
     "metadata": {},
     "output_type": "execute_result"
    }
   ],
   "source": [
    "# 交互数据中用户和文章数量\n",
    "train_data['user_id'].nunique()"
   ]
  },
  {
   "cell_type": "code",
   "execution_count": 9,
   "id": "1e6dc4b4",
   "metadata": {},
   "outputs": [
    {
     "data": {
      "text/plain": [
       "114620"
      ]
     },
     "execution_count": 9,
     "metadata": {},
     "output_type": "execute_result"
    }
   ],
   "source": [
    "train_data['article_id'].nunique()  # 万篇文章"
   ]
  },
  {
   "cell_type": "code",
   "execution_count": 10,
   "id": "bfc175fd",
   "metadata": {},
   "outputs": [],
   "source": [
    "# 曝光时间探索  毫秒级时间戳 \n",
    "# 转换成python的时间格式\n",
    "#train_data['expo_time'] = train_data['expo_time'].apply(lambda x: datetime.fromtimestamp(float(x)/1000) \\\n",
    "#                                                        .strftime('%Y-%m-%d %H:%M:%S'))\n",
    "train_data['expo_time'] = pd.to_datetime(train_data['expo_time'])"
   ]
  },
  {
   "cell_type": "code",
   "execution_count": 11,
   "id": "051781cb",
   "metadata": {},
   "outputs": [
    {
     "name": "stdout",
     "output_type": "stream",
     "text": [
      "2021-06-30 00:00:01    2021-07-06 23:59:59\n"
     ]
    }
   ],
   "source": [
    "print(train_data['expo_time'].min(), \"  \", train_data['expo_time'].max())   # 从6月24到7月6号  12天的行为日志\n",
    "# 后面把从6月24到7月5号的行为数据当做训练集， 7月6号的数据当做测试集进行测试"
   ]
  },
  {
   "cell_type": "code",
   "execution_count": 12,
   "id": "4dcc8c82",
   "metadata": {},
   "outputs": [
    {
     "data": {
      "text/plain": [
       "0    3353933\n",
       "1     586056\n",
       "Name: click, dtype: int64"
      ]
     },
     "execution_count": 12,
     "metadata": {},
     "output_type": "execute_result"
    }
   ],
   "source": [
    "train_data['click'].value_counts()    "
   ]
  },
  {
   "cell_type": "markdown",
   "id": "a193037b",
   "metadata": {},
   "source": [
    "## 点击序列分析"
   ]
  },
  {
   "cell_type": "code",
   "execution_count": 13,
   "id": "8a80cf13",
   "metadata": {},
   "outputs": [],
   "source": [
    "# 选出点击的来\n",
    "click_df = train_data[train_data['click']==1]"
   ]
  },
  {
   "cell_type": "code",
   "execution_count": 14,
   "id": "17d1924e",
   "metadata": {},
   "outputs": [],
   "source": [
    "click_df['date'] = click_df['expo_time'].dt.date"
   ]
  },
  {
   "cell_type": "code",
   "execution_count": 31,
   "id": "a2ac5b7c",
   "metadata": {},
   "outputs": [
    {
     "data": {
      "text/plain": [
       "(234045, 9)"
      ]
     },
     "execution_count": 31,
     "metadata": {},
     "output_type": "execute_result"
    }
   ],
   "source": [
    "click_df.shape"
   ]
  },
  {
   "cell_type": "code",
   "execution_count": 15,
   "id": "588cb101",
   "metadata": {},
   "outputs": [
    {
     "data": {
      "text/plain": [
       "20000"
      ]
     },
     "execution_count": 15,
     "metadata": {},
     "output_type": "execute_result"
    }
   ],
   "source": [
    "click_df['user_id'].nunique()"
   ]
  },
  {
   "cell_type": "code",
   "execution_count": 16,
   "id": "33bc3d99",
   "metadata": {},
   "outputs": [
    {
     "data": {
      "text/plain": [
       "48383"
      ]
     },
     "execution_count": 16,
     "metadata": {},
     "output_type": "execute_result"
    }
   ],
   "source": [
    "click_df['article_id'].nunique()"
   ]
  },
  {
   "cell_type": "code",
   "execution_count": 17,
   "id": "8a7ca97c",
   "metadata": {},
   "outputs": [
    {
     "data": {
      "text/plain": [
       "date\n",
       "2021-06-30     57053\n",
       "2021-07-01     55657\n",
       "2021-07-02     53724\n",
       "2021-07-03     50291\n",
       "2021-07-04     78487\n",
       "2021-07-05    146634\n",
       "2021-07-06    144210\n",
       "Name: click, dtype: int64"
      ]
     },
     "execution_count": 17,
     "metadata": {},
     "output_type": "execute_result"
    }
   ],
   "source": [
    "# 看看每一天的点击分布\n",
    "click_df.groupby('date')['click'].apply(lambda x: x.count())"
   ]
  },
  {
   "cell_type": "code",
   "execution_count": 18,
   "id": "5a25d403",
   "metadata": {},
   "outputs": [
    {
     "data": {
      "text/plain": [
       "count    20000.000000\n",
       "mean        29.302800\n",
       "std         19.568923\n",
       "min         10.000000\n",
       "25%         14.000000\n",
       "50%         23.000000\n",
       "75%         38.000000\n",
       "max        100.000000\n",
       "Name: click, dtype: float64"
      ]
     },
     "execution_count": 18,
     "metadata": {},
     "output_type": "execute_result"
    }
   ],
   "source": [
    "# 看看每个用户的次数分布\n",
    "click_df.groupby('user_id')['click'].apply(lambda x: x.count()).describe()"
   ]
  },
  {
   "cell_type": "code",
   "execution_count": 19,
   "id": "57344dae",
   "metadata": {},
   "outputs": [
    {
     "data": {
      "text/plain": [
       "user_id\n",
       "17340         46\n",
       "490452        58\n",
       "4419744       86\n",
       "4564792       38\n",
       "5419396       19\n",
       "              ..\n",
       "2447162784    30\n",
       "2447169712    18\n",
       "2447202996    10\n",
       "2447212098    11\n",
       "2447231894    17\n",
       "Name: click, Length: 20000, dtype: int64"
      ]
     },
     "execution_count": 19,
     "metadata": {},
     "output_type": "execute_result"
    }
   ],
   "source": [
    "click_df.groupby('user_id')['click'].apply(lambda x: x.count())"
   ]
  },
  {
   "cell_type": "code",
   "execution_count": 20,
   "id": "28d7082c",
   "metadata": {},
   "outputs": [
    {
     "data": {
      "text/plain": [
       "click\n",
       "10       1217\n",
       "11       1082\n",
       "12        988\n",
       "13        914\n",
       "14        816\n",
       "         ... \n",
       "99         25\n",
       "95         23\n",
       "97         23\n",
       "100        20\n",
       "93         16\n",
       "Length: 91, dtype: int64"
      ]
     },
     "execution_count": 20,
     "metadata": {},
     "output_type": "execute_result"
    }
   ],
   "source": [
    "pd.DataFrame(click_df.groupby('user_id')['click'].apply(lambda x: x.count())).value_counts()"
   ]
  },
  {
   "cell_type": "code",
   "execution_count": 44,
   "id": "b9aaa284",
   "metadata": {},
   "outputs": [],
   "source": [
    "click_nums = pd.DataFrame(click_df.groupby('user_id')['click'].apply(lambda x: x.count()))"
   ]
  },
  {
   "cell_type": "code",
   "execution_count": 50,
   "id": "82557d86",
   "metadata": {},
   "outputs": [
    {
     "data": {
      "text/plain": [
       "(31164, 1)"
      ]
     },
     "execution_count": 50,
     "metadata": {},
     "output_type": "execute_result"
    }
   ],
   "source": [
    "click_nums.shape"
   ]
  },
  {
   "cell_type": "markdown",
   "id": "794d87c5",
   "metadata": {},
   "source": [
    "一个人最多点击了1111次，这种制作划窗的时候，肯定要注意下， 把次数限制在40吧\n",
    "\n",
    "窗口的话， 这里得划分下：\n",
    "* 小于10的， 步长为1进行滑动\n",
    "* 长度10-20的， 步长为2滑动\n",
    "* 长度20-30的， 步长为3滑动\n",
    "* 长度30-40的，步长为4滑动\n"
   ]
  },
  {
   "cell_type": "code",
   "execution_count": 21,
   "id": "abb84145",
   "metadata": {},
   "outputs": [
    {
     "data": {
      "text/plain": [
       "<AxesSubplot:>"
      ]
     },
     "execution_count": 21,
     "metadata": {},
     "output_type": "execute_result"
    },
    {
     "data": {
      "image/png": "[encoded data removed]",
      "text/plain": [
       "<Figure size 432x288 with 1 Axes>"
      ]
     },
     "metadata": {
      "needs_background": "light"
     },
     "output_type": "display_data"
    }
   ],
   "source": [
    "click_df.groupby('user_id')['click'].apply(lambda x: x.count()).value_counts().plot()\n",
    "# 这个如果用划窗的话， 历史点击次数太多的，这种不好用  需要限制下点击次数，比如对于不活跃的用户，可以使用划窗数据"
   ]
  },
  {
   "cell_type": "markdown",
   "id": "1c10db4b",
   "metadata": {},
   "source": [
    "## 看点击数据中的时长\n"
   ]
  },
  {
   "cell_type": "code",
   "execution_count": 23,
   "id": "f6e741ca",
   "metadata": {},
   "outputs": [
    {
     "data": {
      "text/plain": [
       "3       4638\n",
       "4       4623\n",
       "6       4512\n",
       "5       4478\n",
       "7       4288\n",
       "        ... \n",
       "1138       1\n",
       "1678       1\n",
       "1544       1\n",
       "1318       1\n",
       "2266       1\n",
       "Name: duration, Length: 1771, dtype: int64"
      ]
     },
     "execution_count": 23,
     "metadata": {},
     "output_type": "execute_result"
    }
   ],
   "source": [
    "click_df['duration'].value_counts()"
   ]
  },
  {
   "cell_type": "markdown",
   "id": "3be4a455",
   "metadata": {},
   "source": [
    "感觉得把这种观看时间太短的去掉"
   ]
  },
  {
   "cell_type": "code",
   "execution_count": 24,
   "id": "3e4cdaeb",
   "metadata": {},
   "outputs": [
    {
     "data": {
      "text/plain": [
       "(586056, 9)"
      ]
     },
     "execution_count": 24,
     "metadata": {},
     "output_type": "execute_result"
    }
   ],
   "source": [
    "click_df.shape"
   ]
  },
  {
   "cell_type": "markdown",
   "id": "13e01f44",
   "metadata": {},
   "source": [
    "## 看缺失情况"
   ]
  },
  {
   "cell_type": "code",
   "execution_count": 26,
   "id": "23eb44fb",
   "metadata": {},
   "outputs": [
    {
     "data": {
      "text/plain": [
       "user_id         0\n",
       "device      67744\n",
       "os          67808\n",
       "province    92260\n",
       "city        96072\n",
       "age         59891\n",
       "gender      58572\n",
       "dtype: int64"
      ]
     },
     "execution_count": 26,
     "metadata": {},
     "output_type": "execute_result"
    }
   ],
   "source": [
    "user_info.isnull().sum()"
   ]
  },
  {
   "cell_type": "code",
   "execution_count": 27,
   "id": "ea723818",
   "metadata": {},
   "outputs": [
    {
     "data": {
      "text/plain": [
       "article_id        0\n",
       "title             0\n",
       "ctime           212\n",
       "img_num         212\n",
       "cat_1           255\n",
       "cat_2           256\n",
       "key_words     10137\n",
       "dtype: int64"
      ]
     },
     "execution_count": 27,
     "metadata": {},
     "output_type": "execute_result"
    }
   ],
   "source": [
    "doc_info.isnull().sum()"
   ]
  },
  {
   "cell_type": "code",
   "execution_count": 63,
   "id": "d01178b7",
   "metadata": {},
   "outputs": [
    {
     "data": {
      "text/plain": [
       "(230841, 7)"
      ]
     },
     "execution_count": 63,
     "metadata": {},
     "output_type": "execute_result"
    }
   ],
   "source": [
    "doc_info.shape"
   ]
  },
  {
   "cell_type": "code",
   "execution_count": 64,
   "id": "1137bc6d",
   "metadata": {},
   "outputs": [
    {
     "data": {
      "text/plain": [
       "user_id          0\n",
       "article_id       0\n",
       "expo_time        0\n",
       "net_status       0\n",
       "flush_nums       0\n",
       "expo_position    0\n",
       "click            0\n",
       "duration         0\n",
       "dtype: int64"
      ]
     },
     "execution_count": 64,
     "metadata": {},
     "output_type": "execute_result"
    }
   ],
   "source": [
    "train_data.isnull().sum()"
   ]
  },
  {
   "cell_type": "markdown",
   "id": "c2b5dddf",
   "metadata": {},
   "source": [
    "用户画像数据缺失比较多，需要处理， 而doc_info数据可以采用简单填充方式， 关键词目前用不到"
   ]
  },
  {
   "cell_type": "markdown",
   "id": "42bc0f85",
   "metadata": {},
   "source": [
    "## 处理用户数据"
   ]
  },
  {
   "cell_type": "code",
   "execution_count": 28,
   "id": "81f3efdf",
   "metadata": {},
   "outputs": [
    {
     "data": {
      "text/html": [
       "<div>\n",
       "<style scoped>\n",
       "    .dataframe tbody tr th:only-of-type {\n",
       "        vertical-align: middle;\n",
       "    }\n",
       "\n",
       "    .dataframe tbody tr th {\n",
       "        vertical-align: top;\n",
       "    }\n",
       "\n",
       "    .dataframe thead th {\n",
       "        text-align: right;\n",
       "    }\n",
       "</style>\n",
       "<table border=\"1\" class=\"dataframe\">\n",
       "  <thead>\n",
       "    <tr style=\"text-align: right;\">\n",
       "      <th></th>\n",
       "      <th>user_id</th>\n",
       "      <th>device</th>\n",
       "      <th>os</th>\n",
       "      <th>province</th>\n",
       "      <th>city</th>\n",
       "      <th>age</th>\n",
       "      <th>gender</th>\n",
       "    </tr>\n",
       "  </thead>\n",
       "  <tbody>\n",
       "    <tr>\n",
       "      <th>0</th>\n",
       "      <td>1000372820</td>\n",
       "      <td>TAS-AN00</td>\n",
       "      <td>Android</td>\n",
       "      <td>广东</td>\n",
       "      <td>广州</td>\n",
       "      <td>A_0_24:0.404616,A_25_29:0.059027,A_30_39:0.516...</td>\n",
       "      <td>female:0.051339,male:0.948661</td>\n",
       "    </tr>\n",
       "    <tr>\n",
       "      <th>1</th>\n",
       "      <td>1000652892</td>\n",
       "      <td>PACM00</td>\n",
       "      <td>Android</td>\n",
       "      <td>河北</td>\n",
       "      <td>唐山</td>\n",
       "      <td>A_0_24:0.615458,A_25_29:0.086233,A_30_39:0.141...</td>\n",
       "      <td>female:0.280295,male:0.719705</td>\n",
       "    </tr>\n",
       "    <tr>\n",
       "      <th>2</th>\n",
       "      <td>1000908852</td>\n",
       "      <td>MI6X</td>\n",
       "      <td>Android</td>\n",
       "      <td>上海</td>\n",
       "      <td>上海</td>\n",
       "      <td>A_0_24:0.123255,A_25_29:0.208225,A_30_39:0.298...</td>\n",
       "      <td>female:0.000000,male:1.000000</td>\n",
       "    </tr>\n",
       "    <tr>\n",
       "      <th>3</th>\n",
       "      <td>1001168798</td>\n",
       "      <td>iPhone11</td>\n",
       "      <td>IOS</td>\n",
       "      <td>NaN</td>\n",
       "      <td>NaN</td>\n",
       "      <td>A_0_24:0.436296,A_25_29:0.489370,A_30_39:0.061...</td>\n",
       "      <td>female:0.870710,male:0.129290</td>\n",
       "    </tr>\n",
       "    <tr>\n",
       "      <th>4</th>\n",
       "      <td>1001305614</td>\n",
       "      <td>M2103K19C</td>\n",
       "      <td>Android</td>\n",
       "      <td>江苏</td>\n",
       "      <td>苏州</td>\n",
       "      <td>A_0_24:0.006632,A_25_29:0.043408,A_30_39:0.350...</td>\n",
       "      <td>female:0.000000,male:1.000000</td>\n",
       "    </tr>\n",
       "  </tbody>\n",
       "</table>\n",
       "</div>"
      ],
      "text/plain": [
       "      user_id     device       os province city  \\\n",
       "0  1000372820   TAS-AN00  Android       广东   广州   \n",
       "1  1000652892     PACM00  Android       河北   唐山   \n",
       "2  1000908852       MI6X  Android       上海   上海   \n",
       "3  1001168798   iPhone11      IOS      NaN  NaN   \n",
       "4  1001305614  M2103K19C  Android       江苏   苏州   \n",
       "\n",
       "                                                 age  \\\n",
       "0  A_0_24:0.404616,A_25_29:0.059027,A_30_39:0.516...   \n",
       "1  A_0_24:0.615458,A_25_29:0.086233,A_30_39:0.141...   \n",
       "2  A_0_24:0.123255,A_25_29:0.208225,A_30_39:0.298...   \n",
       "3  A_0_24:0.436296,A_25_29:0.489370,A_30_39:0.061...   \n",
       "4  A_0_24:0.006632,A_25_29:0.043408,A_30_39:0.350...   \n",
       "\n",
       "                          gender  \n",
       "0  female:0.051339,male:0.948661  \n",
       "1  female:0.280295,male:0.719705  \n",
       "2  female:0.000000,male:1.000000  \n",
       "3  female:0.870710,male:0.129290  \n",
       "4  female:0.000000,male:1.000000  "
      ]
     },
     "execution_count": 28,
     "metadata": {},
     "output_type": "execute_result"
    }
   ],
   "source": [
    "user_info.head()"
   ]
  },
  {
   "cell_type": "markdown",
   "id": "90104430",
   "metadata": {},
   "source": [
    "age和gender必须得选择出一种来， 根据概率取值选择"
   ]
  },
  {
   "cell_type": "code",
   "execution_count": 74,
   "id": "ff475f23",
   "metadata": {},
   "outputs": [
    {
     "data": {
      "text/plain": [
       "user_id      int64\n",
       "device      object\n",
       "os          object\n",
       "province    object\n",
       "city        object\n",
       "age         object\n",
       "gender      object\n",
       "dtype: object"
      ]
     },
     "execution_count": 74,
     "metadata": {},
     "output_type": "execute_result"
    }
   ],
   "source": [
    "user_info.dtypes"
   ]
  },
  {
   "cell_type": "code",
   "execution_count": 34,
   "id": "194a9219",
   "metadata": {},
   "outputs": [],
   "source": [
    "def get_age_gender(x):\n",
    "    # 空值注意下\n",
    "    if pd.isna(x):\n",
    "        return x\n",
    "    x_list = x.split(',')\n",
    "    age_stage_val = list(map(lambda x: x.split(':'), x_list))\n",
    "    age_stage = list(map(lambda x: x[0], age_stage_val))\n",
    "    age_val = list(map(lambda x: x[1], age_stage_val))\n",
    "    return age_stage[np.argmax(age_val)]\n",
    "\n",
    "user_info['age'] = user_info['age'].apply(lambda x: get_age_gender(x))\n",
    "user_info['gender'] = user_info['gender'].apply(lambda x: get_age_gender(x))"
   ]
  },
  {
   "cell_type": "code",
   "execution_count": 30,
   "id": "ba8f9174",
   "metadata": {},
   "outputs": [
    {
     "data": {
      "text/html": [
       "<div>\n",
       "<style scoped>\n",
       "    .dataframe tbody tr th:only-of-type {\n",
       "        vertical-align: middle;\n",
       "    }\n",
       "\n",
       "    .dataframe tbody tr th {\n",
       "        vertical-align: top;\n",
       "    }\n",
       "\n",
       "    .dataframe thead th {\n",
       "        text-align: right;\n",
       "    }\n",
       "</style>\n",
       "<table border=\"1\" class=\"dataframe\">\n",
       "  <thead>\n",
       "    <tr style=\"text-align: right;\">\n",
       "      <th></th>\n",
       "      <th>user_id</th>\n",
       "      <th>device</th>\n",
       "      <th>os</th>\n",
       "      <th>province</th>\n",
       "      <th>city</th>\n",
       "      <th>age</th>\n",
       "      <th>gender</th>\n",
       "    </tr>\n",
       "  </thead>\n",
       "  <tbody>\n",
       "    <tr>\n",
       "      <th>0</th>\n",
       "      <td>1000372820</td>\n",
       "      <td>TAS-AN00</td>\n",
       "      <td>Android</td>\n",
       "      <td>广东</td>\n",
       "      <td>广州</td>\n",
       "      <td>A_30_39</td>\n",
       "      <td>male</td>\n",
       "    </tr>\n",
       "    <tr>\n",
       "      <th>1</th>\n",
       "      <td>1000652892</td>\n",
       "      <td>PACM00</td>\n",
       "      <td>Android</td>\n",
       "      <td>河北</td>\n",
       "      <td>唐山</td>\n",
       "      <td>A_0_24</td>\n",
       "      <td>male</td>\n",
       "    </tr>\n",
       "    <tr>\n",
       "      <th>2</th>\n",
       "      <td>1000908852</td>\n",
       "      <td>MI6X</td>\n",
       "      <td>Android</td>\n",
       "      <td>上海</td>\n",
       "      <td>上海</td>\n",
       "      <td>A_40+</td>\n",
       "      <td>male</td>\n",
       "    </tr>\n",
       "    <tr>\n",
       "      <th>3</th>\n",
       "      <td>1001168798</td>\n",
       "      <td>iPhone11</td>\n",
       "      <td>IOS</td>\n",
       "      <td>NaN</td>\n",
       "      <td>NaN</td>\n",
       "      <td>A_25_29</td>\n",
       "      <td>female</td>\n",
       "    </tr>\n",
       "    <tr>\n",
       "      <th>4</th>\n",
       "      <td>1001305614</td>\n",
       "      <td>M2103K19C</td>\n",
       "      <td>Android</td>\n",
       "      <td>江苏</td>\n",
       "      <td>苏州</td>\n",
       "      <td>A_40+</td>\n",
       "      <td>male</td>\n",
       "    </tr>\n",
       "  </tbody>\n",
       "</table>\n",
       "</div>"
      ],
      "text/plain": [
       "      user_id     device       os province city      age  gender\n",
       "0  1000372820   TAS-AN00  Android       广东   广州  A_30_39    male\n",
       "1  1000652892     PACM00  Android       河北   唐山   A_0_24    male\n",
       "2  1000908852       MI6X  Android       上海   上海    A_40+    male\n",
       "3  1001168798   iPhone11      IOS      NaN  NaN  A_25_29  female\n",
       "4  1001305614  M2103K19C  Android       江苏   苏州    A_40+    male"
      ]
     },
     "execution_count": 30,
     "metadata": {},
     "output_type": "execute_result"
    }
   ],
   "source": [
    "user_info.head()"
   ]
  },
  {
   "cell_type": "code",
   "execution_count": 36,
   "id": "9a118a1c",
   "metadata": {},
   "outputs": [
    {
     "data": {
      "text/plain": [
       "user_id     0\n",
       "device      0\n",
       "os          0\n",
       "province    0\n",
       "city        0\n",
       "age         0\n",
       "gender      0\n",
       "dtype: int64"
      ]
     },
     "execution_count": 36,
     "metadata": {},
     "output_type": "execute_result"
    }
   ],
   "source": [
    "user_info.isnull().sum()"
   ]
  },
  {
   "cell_type": "code",
   "execution_count": 35,
   "id": "d15956f6",
   "metadata": {},
   "outputs": [],
   "source": [
    "# 填充空值\n",
    "user_info.fillna('nan', inplace=True)"
   ]
  },
  {
   "cell_type": "markdown",
   "id": "713174b5",
   "metadata": {},
   "source": [
    "user数据的编码转换，在这里先不做了， 拼接到日志数据上去，在YouTubeDNN那里统一做"
   ]
  },
  {
   "cell_type": "code",
   "execution_count": 32,
   "id": "0b35b6d8",
   "metadata": {},
   "outputs": [],
   "source": [
    "# from sklearn.preprocessing import LabelEncoder\n",
    "# 编码转换\n",
    "# cols = user_info.columns[1:]  # Index(['device', 'os', 'province', 'city', 'age', 'gender'], dtype='object')\n",
    "\n",
    "# for col in cols:\n",
    "#     enc = LabelEncoder()\n",
    "#     user_info[col] = enc.fit_transform(user_info[col])"
   ]
  },
  {
   "cell_type": "code",
   "execution_count": 37,
   "id": "bf970484",
   "metadata": {},
   "outputs": [
    {
     "data": {
      "text/html": [
       "<div>\n",
       "<style scoped>\n",
       "    .dataframe tbody tr th:only-of-type {\n",
       "        vertical-align: middle;\n",
       "    }\n",
       "\n",
       "    .dataframe tbody tr th {\n",
       "        vertical-align: top;\n",
       "    }\n",
       "\n",
       "    .dataframe thead th {\n",
       "        text-align: right;\n",
       "    }\n",
       "</style>\n",
       "<table border=\"1\" class=\"dataframe\">\n",
       "  <thead>\n",
       "    <tr style=\"text-align: right;\">\n",
       "      <th></th>\n",
       "      <th>user_id</th>\n",
       "      <th>device</th>\n",
       "      <th>os</th>\n",
       "      <th>province</th>\n",
       "      <th>city</th>\n",
       "      <th>age</th>\n",
       "      <th>gender</th>\n",
       "    </tr>\n",
       "  </thead>\n",
       "  <tbody>\n",
       "    <tr>\n",
       "      <th>0</th>\n",
       "      <td>1000372820</td>\n",
       "      <td>TAS-AN00</td>\n",
       "      <td>Android</td>\n",
       "      <td>广东</td>\n",
       "      <td>广州</td>\n",
       "      <td>A_30_39</td>\n",
       "      <td>male</td>\n",
       "    </tr>\n",
       "    <tr>\n",
       "      <th>1</th>\n",
       "      <td>1000652892</td>\n",
       "      <td>PACM00</td>\n",
       "      <td>Android</td>\n",
       "      <td>河北</td>\n",
       "      <td>唐山</td>\n",
       "      <td>A_0_24</td>\n",
       "      <td>male</td>\n",
       "    </tr>\n",
       "    <tr>\n",
       "      <th>2</th>\n",
       "      <td>1000908852</td>\n",
       "      <td>MI6X</td>\n",
       "      <td>Android</td>\n",
       "      <td>上海</td>\n",
       "      <td>上海</td>\n",
       "      <td>A_40+</td>\n",
       "      <td>male</td>\n",
       "    </tr>\n",
       "    <tr>\n",
       "      <th>3</th>\n",
       "      <td>1001168798</td>\n",
       "      <td>iPhone11</td>\n",
       "      <td>IOS</td>\n",
       "      <td>nan</td>\n",
       "      <td>nan</td>\n",
       "      <td>A_25_29</td>\n",
       "      <td>female</td>\n",
       "    </tr>\n",
       "    <tr>\n",
       "      <th>4</th>\n",
       "      <td>1001305614</td>\n",
       "      <td>M2103K19C</td>\n",
       "      <td>Android</td>\n",
       "      <td>江苏</td>\n",
       "      <td>苏州</td>\n",
       "      <td>A_40+</td>\n",
       "      <td>male</td>\n",
       "    </tr>\n",
       "  </tbody>\n",
       "</table>\n",
       "</div>"
      ],
      "text/plain": [
       "      user_id     device       os province city      age  gender\n",
       "0  1000372820   TAS-AN00  Android       广东   广州  A_30_39    male\n",
       "1  1000652892     PACM00  Android       河北   唐山   A_0_24    male\n",
       "2  1000908852       MI6X  Android       上海   上海    A_40+    male\n",
       "3  1001168798   iPhone11      IOS      nan  nan  A_25_29  female\n",
       "4  1001305614  M2103K19C  Android       江苏   苏州    A_40+    male"
      ]
     },
     "execution_count": 37,
     "metadata": {},
     "output_type": "execute_result"
    }
   ],
   "source": [
    "user_info.head()"
   ]
  },
  {
   "cell_type": "code",
   "execution_count": 38,
   "id": "6dee90a0",
   "metadata": {},
   "outputs": [],
   "source": [
    "# 保存一份新数据\n",
    "user_info.to_csv('data_process/user_info.csv')"
   ]
  },
  {
   "cell_type": "markdown",
   "id": "dc4446c0",
   "metadata": {},
   "source": [
    "## 处理文章数据"
   ]
  },
  {
   "cell_type": "code",
   "execution_count": 39,
   "id": "2dd9a2d8",
   "metadata": {},
   "outputs": [
    {
     "data": {
      "text/html": [
       "<div>\n",
       "<style scoped>\n",
       "    .dataframe tbody tr th:only-of-type {\n",
       "        vertical-align: middle;\n",
       "    }\n",
       "\n",
       "    .dataframe tbody tr th {\n",
       "        vertical-align: top;\n",
       "    }\n",
       "\n",
       "    .dataframe thead th {\n",
       "        text-align: right;\n",
       "    }\n",
       "</style>\n",
       "<table border=\"1\" class=\"dataframe\">\n",
       "  <thead>\n",
       "    <tr style=\"text-align: right;\">\n",
       "      <th></th>\n",
       "      <th>article_id</th>\n",
       "      <th>title</th>\n",
       "      <th>ctime</th>\n",
       "      <th>img_num</th>\n",
       "      <th>cat_1</th>\n",
       "      <th>cat_2</th>\n",
       "      <th>key_words</th>\n",
       "    </tr>\n",
       "  </thead>\n",
       "  <tbody>\n",
       "    <tr>\n",
       "      <th>0</th>\n",
       "      <td>349635709</td>\n",
       "      <td>拿到c1驾照后,实习期扣分了会怎样?扣12分驾照会吊销么?</td>\n",
       "      <td>1572519971000</td>\n",
       "      <td>9</td>\n",
       "      <td>汽车</td>\n",
       "      <td>汽车/用车</td>\n",
       "      <td>上班族:8.469502,买车:8.137443,二手车:9.022247,副页:11.21...</td>\n",
       "    </tr>\n",
       "    <tr>\n",
       "      <th>1</th>\n",
       "      <td>361653323</td>\n",
       "      <td>疫情谣言粉碎机丨接种新冠疫苗后用麻药或致死?盘点最新疫情谣言,别被忽悠了</td>\n",
       "      <td>1624522285000</td>\n",
       "      <td>1</td>\n",
       "      <td>健康</td>\n",
       "      <td>健康/疾病防护治疗及西医用药</td>\n",
       "      <td>医生:14.760494,吸烟:16.474872,板蓝根:15.597788,板蓝根^^熏...</td>\n",
       "    </tr>\n",
       "    <tr>\n",
       "      <th>2</th>\n",
       "      <td>426732705</td>\n",
       "      <td>实拍本田飞度:空间真大,8万出头工薪族可选,但内饰能忍?</td>\n",
       "      <td>1610808303000</td>\n",
       "      <td>9</td>\n",
       "      <td>汽车</td>\n",
       "      <td>汽车/买车</td>\n",
       "      <td>155n:8.979802,polo:7.951116,中控台:5.954278,中网:7....</td>\n",
       "    </tr>\n",
       "    <tr>\n",
       "      <th>3</th>\n",
       "      <td>430221183</td>\n",
       "      <td>搭载135kw电机比亚迪秦plus纯电动版外观更精致</td>\n",
       "      <td>1612581556000</td>\n",
       "      <td>2</td>\n",
       "      <td>汽车</td>\n",
       "      <td>汽车/买车</td>\n",
       "      <td>etc:12.055207,代表:8.878175,内饰:5.342025,刀片:9.453...</td>\n",
       "    </tr>\n",
       "    <tr>\n",
       "      <th>4</th>\n",
       "      <td>441756326</td>\n",
       "      <td>【提车作业】不顾他人眼光帕萨特phev俘获30老男人浪子心</td>\n",
       "      <td>1618825835000</td>\n",
       "      <td>23</td>\n",
       "      <td>汽车</td>\n",
       "      <td>汽车/买车</td>\n",
       "      <td>丰田凯美瑞:12.772149,充电器:8.394001,品牌:8.436843,城市:7....</td>\n",
       "    </tr>\n",
       "  </tbody>\n",
       "</table>\n",
       "</div>"
      ],
      "text/plain": [
       "   article_id                                 title          ctime img_num  \\\n",
       "0   349635709         拿到c1驾照后,实习期扣分了会怎样?扣12分驾照会吊销么?  1572519971000       9   \n",
       "1   361653323  疫情谣言粉碎机丨接种新冠疫苗后用麻药或致死?盘点最新疫情谣言,别被忽悠了  1624522285000       1   \n",
       "2   426732705          实拍本田飞度:空间真大,8万出头工薪族可选,但内饰能忍?  1610808303000       9   \n",
       "3   430221183            搭载135kw电机比亚迪秦plus纯电动版外观更精致  1612581556000       2   \n",
       "4   441756326         【提车作业】不顾他人眼光帕萨特phev俘获30老男人浪子心  1618825835000      23   \n",
       "\n",
       "  cat_1           cat_2                                          key_words  \n",
       "0    汽车           汽车/用车  上班族:8.469502,买车:8.137443,二手车:9.022247,副页:11.21...  \n",
       "1    健康  健康/疾病防护治疗及西医用药  医生:14.760494,吸烟:16.474872,板蓝根:15.597788,板蓝根^^熏...  \n",
       "2    汽车           汽车/买车  155n:8.979802,polo:7.951116,中控台:5.954278,中网:7....  \n",
       "3    汽车           汽车/买车  etc:12.055207,代表:8.878175,内饰:5.342025,刀片:9.453...  \n",
       "4    汽车           汽车/买车  丰田凯美瑞:12.772149,充电器:8.394001,品牌:8.436843,城市:7....  "
      ]
     },
     "execution_count": 39,
     "metadata": {},
     "output_type": "execute_result"
    }
   ],
   "source": [
    "doc_info.head()"
   ]
  },
  {
   "cell_type": "code",
   "execution_count": 40,
   "id": "65005c26",
   "metadata": {},
   "outputs": [
    {
     "data": {
      "text/plain": [
       "0    1625400960000.0\n",
       "dtype: object"
      ]
     },
     "execution_count": 40,
     "metadata": {},
     "output_type": "execute_result"
    }
   ],
   "source": [
    "doc_info['ctime'].mode()"
   ]
  },
  {
   "cell_type": "code",
   "execution_count": 41,
   "id": "ca98a5d0",
   "metadata": {},
   "outputs": [],
   "source": [
    "doc_info['ctime'] = doc_info['ctime'].str.replace('Android', '1625400960000')\n",
    "doc_info['ctime'].fillna('1625400960000', inplace=True)"
   ]
  },
  {
   "cell_type": "markdown",
   "id": "2c4cd888",
   "metadata": {},
   "source": [
    "时间列处理"
   ]
  },
  {
   "cell_type": "code",
   "execution_count": 42,
   "id": "84e5a9bf",
   "metadata": {},
   "outputs": [],
   "source": [
    "doc_info['ctime'] = doc_info['ctime'].apply(lambda x: datetime.fromtimestamp(int(x)/1000) \\\n",
    "                                                        .strftime('%Y-%m-%d %H:%M:%S'))\n",
    "doc_info['ctime'] = pd.to_datetime(doc_info['ctime'])"
   ]
  },
  {
   "cell_type": "code",
   "execution_count": 43,
   "id": "0fc8090f",
   "metadata": {},
   "outputs": [
    {
     "data": {
      "text/html": [
       "<div>\n",
       "<style scoped>\n",
       "    .dataframe tbody tr th:only-of-type {\n",
       "        vertical-align: middle;\n",
       "    }\n",
       "\n",
       "    .dataframe tbody tr th {\n",
       "        vertical-align: top;\n",
       "    }\n",
       "\n",
       "    .dataframe thead th {\n",
       "        text-align: right;\n",
       "    }\n",
       "</style>\n",
       "<table border=\"1\" class=\"dataframe\">\n",
       "  <thead>\n",
       "    <tr style=\"text-align: right;\">\n",
       "      <th></th>\n",
       "      <th>article_id</th>\n",
       "      <th>title</th>\n",
       "      <th>ctime</th>\n",
       "      <th>img_num</th>\n",
       "      <th>cat_1</th>\n",
       "      <th>cat_2</th>\n",
       "      <th>key_words</th>\n",
       "    </tr>\n",
       "  </thead>\n",
       "  <tbody>\n",
       "    <tr>\n",
       "      <th>0</th>\n",
       "      <td>349635709</td>\n",
       "      <td>拿到c1驾照后,实习期扣分了会怎样?扣12分驾照会吊销么?</td>\n",
       "      <td>2019-10-31 19:06:11</td>\n",
       "      <td>9</td>\n",
       "      <td>汽车</td>\n",
       "      <td>汽车/用车</td>\n",
       "      <td>上班族:8.469502,买车:8.137443,二手车:9.022247,副页:11.21...</td>\n",
       "    </tr>\n",
       "    <tr>\n",
       "      <th>1</th>\n",
       "      <td>361653323</td>\n",
       "      <td>疫情谣言粉碎机丨接种新冠疫苗后用麻药或致死?盘点最新疫情谣言,别被忽悠了</td>\n",
       "      <td>2021-06-24 16:11:25</td>\n",
       "      <td>1</td>\n",
       "      <td>健康</td>\n",
       "      <td>健康/疾病防护治疗及西医用药</td>\n",
       "      <td>医生:14.760494,吸烟:16.474872,板蓝根:15.597788,板蓝根^^熏...</td>\n",
       "    </tr>\n",
       "    <tr>\n",
       "      <th>2</th>\n",
       "      <td>426732705</td>\n",
       "      <td>实拍本田飞度:空间真大,8万出头工薪族可选,但内饰能忍?</td>\n",
       "      <td>2021-01-16 22:45:03</td>\n",
       "      <td>9</td>\n",
       "      <td>汽车</td>\n",
       "      <td>汽车/买车</td>\n",
       "      <td>155n:8.979802,polo:7.951116,中控台:5.954278,中网:7....</td>\n",
       "    </tr>\n",
       "    <tr>\n",
       "      <th>3</th>\n",
       "      <td>430221183</td>\n",
       "      <td>搭载135kw电机比亚迪秦plus纯电动版外观更精致</td>\n",
       "      <td>2021-02-06 11:19:16</td>\n",
       "      <td>2</td>\n",
       "      <td>汽车</td>\n",
       "      <td>汽车/买车</td>\n",
       "      <td>etc:12.055207,代表:8.878175,内饰:5.342025,刀片:9.453...</td>\n",
       "    </tr>\n",
       "    <tr>\n",
       "      <th>4</th>\n",
       "      <td>441756326</td>\n",
       "      <td>【提车作业】不顾他人眼光帕萨特phev俘获30老男人浪子心</td>\n",
       "      <td>2021-04-19 17:50:35</td>\n",
       "      <td>23</td>\n",
       "      <td>汽车</td>\n",
       "      <td>汽车/买车</td>\n",
       "      <td>丰田凯美瑞:12.772149,充电器:8.394001,品牌:8.436843,城市:7....</td>\n",
       "    </tr>\n",
       "  </tbody>\n",
       "</table>\n",
       "</div>"
      ],
      "text/plain": [
       "   article_id                                 title               ctime  \\\n",
       "0   349635709         拿到c1驾照后,实习期扣分了会怎样?扣12分驾照会吊销么? 2019-10-31 19:06:11   \n",
       "1   361653323  疫情谣言粉碎机丨接种新冠疫苗后用麻药或致死?盘点最新疫情谣言,别被忽悠了 2021-06-24 16:11:25   \n",
       "2   426732705          实拍本田飞度:空间真大,8万出头工薪族可选,但内饰能忍? 2021-01-16 22:45:03   \n",
       "3   430221183            搭载135kw电机比亚迪秦plus纯电动版外观更精致 2021-02-06 11:19:16   \n",
       "4   441756326         【提车作业】不顾他人眼光帕萨特phev俘获30老男人浪子心 2021-04-19 17:50:35   \n",
       "\n",
       "  img_num cat_1           cat_2  \\\n",
       "0       9    汽车           汽车/用车   \n",
       "1       1    健康  健康/疾病防护治疗及西医用药   \n",
       "2       9    汽车           汽车/买车   \n",
       "3       2    汽车           汽车/买车   \n",
       "4      23    汽车           汽车/买车   \n",
       "\n",
       "                                           key_words  \n",
       "0  上班族:8.469502,买车:8.137443,二手车:9.022247,副页:11.21...  \n",
       "1  医生:14.760494,吸烟:16.474872,板蓝根:15.597788,板蓝根^^熏...  \n",
       "2  155n:8.979802,polo:7.951116,中控台:5.954278,中网:7....  \n",
       "3  etc:12.055207,代表:8.878175,内饰:5.342025,刀片:9.453...  \n",
       "4  丰田凯美瑞:12.772149,充电器:8.394001,品牌:8.436843,城市:7....  "
      ]
     },
     "execution_count": 43,
     "metadata": {},
     "output_type": "execute_result"
    }
   ],
   "source": [
    "doc_info.head()"
   ]
  },
  {
   "cell_type": "code",
   "execution_count": 46,
   "id": "9b342c88",
   "metadata": {},
   "outputs": [
    {
     "data": {
      "text/plain": [
       "article_id        0\n",
       "title             0\n",
       "ctime             0\n",
       "img_num           0\n",
       "cat_1             0\n",
       "cat_2             0\n",
       "key_words     10137\n",
       "dtype: int64"
      ]
     },
     "execution_count": 46,
     "metadata": {},
     "output_type": "execute_result"
    }
   ],
   "source": [
    "doc_info.isnull().sum()"
   ]
  },
  {
   "cell_type": "code",
   "execution_count": 45,
   "id": "01b01679",
   "metadata": {},
   "outputs": [],
   "source": [
    "# 填充其他列的缺失\n",
    "doc_info['img_num'].fillna(0.0, inplace=True)\n",
    "doc_info['cat_1'].fillna(doc_info['cat_1'].mode()[0], inplace=True)\n",
    "doc_info['cat_2'].fillna(doc_info['cat_2'].mode()[0], inplace=True)"
   ]
  },
  {
   "cell_type": "code",
   "execution_count": 139,
   "id": "24b7bff8",
   "metadata": {},
   "outputs": [
    {
     "data": {
      "text/plain": [
       "(592749, 7)"
      ]
     },
     "execution_count": 139,
     "metadata": {},
     "output_type": "execute_result"
    }
   ],
   "source": [
    "doc_info.shape"
   ]
  },
  {
   "cell_type": "markdown",
   "id": "4fd13893",
   "metadata": {},
   "source": [
    "## 处理日志数据\n",
    "日志数据先拼接上用户画像，保存一份"
   ]
  },
  {
   "cell_type": "code",
   "execution_count": 47,
   "id": "069534be",
   "metadata": {},
   "outputs": [
    {
     "data": {
      "text/html": [
       "<div>\n",
       "<style scoped>\n",
       "    .dataframe tbody tr th:only-of-type {\n",
       "        vertical-align: middle;\n",
       "    }\n",
       "\n",
       "    .dataframe tbody tr th {\n",
       "        vertical-align: top;\n",
       "    }\n",
       "\n",
       "    .dataframe thead th {\n",
       "        text-align: right;\n",
       "    }\n",
       "</style>\n",
       "<table border=\"1\" class=\"dataframe\">\n",
       "  <thead>\n",
       "    <tr style=\"text-align: right;\">\n",
       "      <th></th>\n",
       "      <th>user_id</th>\n",
       "      <th>article_id</th>\n",
       "      <th>expo_time</th>\n",
       "      <th>net_status</th>\n",
       "      <th>flush_nums</th>\n",
       "      <th>exop_position</th>\n",
       "      <th>click</th>\n",
       "      <th>duration</th>\n",
       "    </tr>\n",
       "  </thead>\n",
       "  <tbody>\n",
       "    <tr>\n",
       "      <th>0</th>\n",
       "      <td>1000541010</td>\n",
       "      <td>464467760</td>\n",
       "      <td>2021-06-30 09:57:14</td>\n",
       "      <td>2</td>\n",
       "      <td>0</td>\n",
       "      <td>13</td>\n",
       "      <td>1</td>\n",
       "      <td>28</td>\n",
       "    </tr>\n",
       "    <tr>\n",
       "      <th>1</th>\n",
       "      <td>1000541010</td>\n",
       "      <td>463850913</td>\n",
       "      <td>2021-06-30 09:57:14</td>\n",
       "      <td>2</td>\n",
       "      <td>0</td>\n",
       "      <td>15</td>\n",
       "      <td>0</td>\n",
       "      <td>0</td>\n",
       "    </tr>\n",
       "    <tr>\n",
       "      <th>2</th>\n",
       "      <td>1000541010</td>\n",
       "      <td>464022440</td>\n",
       "      <td>2021-06-30 09:57:14</td>\n",
       "      <td>2</td>\n",
       "      <td>0</td>\n",
       "      <td>17</td>\n",
       "      <td>0</td>\n",
       "      <td>0</td>\n",
       "    </tr>\n",
       "    <tr>\n",
       "      <th>3</th>\n",
       "      <td>1000541010</td>\n",
       "      <td>464586545</td>\n",
       "      <td>2021-06-30 09:58:31</td>\n",
       "      <td>2</td>\n",
       "      <td>1</td>\n",
       "      <td>20</td>\n",
       "      <td>0</td>\n",
       "      <td>0</td>\n",
       "    </tr>\n",
       "    <tr>\n",
       "      <th>4</th>\n",
       "      <td>1000541010</td>\n",
       "      <td>465352885</td>\n",
       "      <td>2021-07-03 18:13:03</td>\n",
       "      <td>5</td>\n",
       "      <td>0</td>\n",
       "      <td>18</td>\n",
       "      <td>0</td>\n",
       "      <td>0</td>\n",
       "    </tr>\n",
       "  </tbody>\n",
       "</table>\n",
       "</div>"
      ],
      "text/plain": [
       "      user_id  article_id           expo_time  net_status  flush_nums  \\\n",
       "0  1000541010   464467760 2021-06-30 09:57:14           2           0   \n",
       "1  1000541010   463850913 2021-06-30 09:57:14           2           0   \n",
       "2  1000541010   464022440 2021-06-30 09:57:14           2           0   \n",
       "3  1000541010   464586545 2021-06-30 09:58:31           2           1   \n",
       "4  1000541010   465352885 2021-07-03 18:13:03           5           0   \n",
       "\n",
       "   exop_position  click  duration  \n",
       "0             13      1        28  \n",
       "1             15      0         0  \n",
       "2             17      0         0  \n",
       "3             20      0         0  \n",
       "4             18      0         0  "
      ]
     },
     "execution_count": 47,
     "metadata": {},
     "output_type": "execute_result"
    }
   ],
   "source": [
    "train_data.head()"
   ]
  },
  {
   "cell_type": "code",
   "execution_count": 48,
   "id": "cce4f479",
   "metadata": {},
   "outputs": [],
   "source": [
    "train_data = train_data.merge(user_info, on='user_id', how='left')\n",
    "train_data_new = train_data.merge(doc_info[['article_id', 'ctime', 'img_num', 'cat_1', 'cat_2']], on='article_id', how='left')"
   ]
  },
  {
   "cell_type": "code",
   "execution_count": 49,
   "id": "a58e4b40",
   "metadata": {},
   "outputs": [
    {
     "data": {
      "text/html": [
       "<div>\n",
       "<style scoped>\n",
       "    .dataframe tbody tr th:only-of-type {\n",
       "        vertical-align: middle;\n",
       "    }\n",
       "\n",
       "    .dataframe tbody tr th {\n",
       "        vertical-align: top;\n",
       "    }\n",
       "\n",
       "    .dataframe thead th {\n",
       "        text-align: right;\n",
       "    }\n",
       "</style>\n",
       "<table border=\"1\" class=\"dataframe\">\n",
       "  <thead>\n",
       "    <tr style=\"text-align: right;\">\n",
       "      <th></th>\n",
       "      <th>user_id</th>\n",
       "      <th>article_id</th>\n",
       "      <th>expo_time</th>\n",
       "      <th>net_status</th>\n",
       "      <th>flush_nums</th>\n",
       "      <th>exop_position</th>\n",
       "      <th>click</th>\n",
       "      <th>duration</th>\n",
       "      <th>device</th>\n",
       "      <th>os</th>\n",
       "      <th>province</th>\n",
       "      <th>city</th>\n",
       "      <th>age</th>\n",
       "      <th>gender</th>\n",
       "      <th>ctime</th>\n",
       "      <th>img_num</th>\n",
       "      <th>cat_1</th>\n",
       "      <th>cat_2</th>\n",
       "    </tr>\n",
       "  </thead>\n",
       "  <tbody>\n",
       "    <tr>\n",
       "      <th>0</th>\n",
       "      <td>1000541010</td>\n",
       "      <td>464467760</td>\n",
       "      <td>2021-06-30 09:57:14</td>\n",
       "      <td>2</td>\n",
       "      <td>0</td>\n",
       "      <td>13</td>\n",
       "      <td>1</td>\n",
       "      <td>28</td>\n",
       "      <td>V2054A</td>\n",
       "      <td>Android</td>\n",
       "      <td>上海</td>\n",
       "      <td>上海</td>\n",
       "      <td>A_0_24</td>\n",
       "      <td>female</td>\n",
       "      <td>2021-06-29 14:46:43</td>\n",
       "      <td>3</td>\n",
       "      <td>娱乐</td>\n",
       "      <td>娱乐/港台明星</td>\n",
       "    </tr>\n",
       "    <tr>\n",
       "      <th>1</th>\n",
       "      <td>1000541010</td>\n",
       "      <td>463850913</td>\n",
       "      <td>2021-06-30 09:57:14</td>\n",
       "      <td>2</td>\n",
       "      <td>0</td>\n",
       "      <td>15</td>\n",
       "      <td>0</td>\n",
       "      <td>0</td>\n",
       "      <td>V2054A</td>\n",
       "      <td>Android</td>\n",
       "      <td>上海</td>\n",
       "      <td>上海</td>\n",
       "      <td>A_0_24</td>\n",
       "      <td>female</td>\n",
       "      <td>2021-06-27 22:29:13</td>\n",
       "      <td>11</td>\n",
       "      <td>时尚</td>\n",
       "      <td>时尚/女性时尚</td>\n",
       "    </tr>\n",
       "    <tr>\n",
       "      <th>2</th>\n",
       "      <td>1000541010</td>\n",
       "      <td>464022440</td>\n",
       "      <td>2021-06-30 09:57:14</td>\n",
       "      <td>2</td>\n",
       "      <td>0</td>\n",
       "      <td>17</td>\n",
       "      <td>0</td>\n",
       "      <td>0</td>\n",
       "      <td>V2054A</td>\n",
       "      <td>Android</td>\n",
       "      <td>上海</td>\n",
       "      <td>上海</td>\n",
       "      <td>A_0_24</td>\n",
       "      <td>female</td>\n",
       "      <td>2021-06-28 12:22:54</td>\n",
       "      <td>7</td>\n",
       "      <td>农村</td>\n",
       "      <td>农村/农业资讯</td>\n",
       "    </tr>\n",
       "    <tr>\n",
       "      <th>3</th>\n",
       "      <td>1000541010</td>\n",
       "      <td>464586545</td>\n",
       "      <td>2021-06-30 09:58:31</td>\n",
       "      <td>2</td>\n",
       "      <td>1</td>\n",
       "      <td>20</td>\n",
       "      <td>0</td>\n",
       "      <td>0</td>\n",
       "      <td>V2054A</td>\n",
       "      <td>Android</td>\n",
       "      <td>上海</td>\n",
       "      <td>上海</td>\n",
       "      <td>A_0_24</td>\n",
       "      <td>female</td>\n",
       "      <td>2021-06-29 13:25:06</td>\n",
       "      <td>5</td>\n",
       "      <td>娱乐</td>\n",
       "      <td>娱乐/港台明星</td>\n",
       "    </tr>\n",
       "    <tr>\n",
       "      <th>4</th>\n",
       "      <td>1000541010</td>\n",
       "      <td>465352885</td>\n",
       "      <td>2021-07-03 18:13:03</td>\n",
       "      <td>5</td>\n",
       "      <td>0</td>\n",
       "      <td>18</td>\n",
       "      <td>0</td>\n",
       "      <td>0</td>\n",
       "      <td>V2054A</td>\n",
       "      <td>Android</td>\n",
       "      <td>上海</td>\n",
       "      <td>上海</td>\n",
       "      <td>A_0_24</td>\n",
       "      <td>female</td>\n",
       "      <td>2021-07-02 10:43:51</td>\n",
       "      <td>18</td>\n",
       "      <td>娱乐</td>\n",
       "      <td>娱乐/港台明星</td>\n",
       "    </tr>\n",
       "  </tbody>\n",
       "</table>\n",
       "</div>"
      ],
      "text/plain": [
       "      user_id  article_id           expo_time  net_status  flush_nums  \\\n",
       "0  1000541010   464467760 2021-06-30 09:57:14           2           0   \n",
       "1  1000541010   463850913 2021-06-30 09:57:14           2           0   \n",
       "2  1000541010   464022440 2021-06-30 09:57:14           2           0   \n",
       "3  1000541010   464586545 2021-06-30 09:58:31           2           1   \n",
       "4  1000541010   465352885 2021-07-03 18:13:03           5           0   \n",
       "\n",
       "   exop_position  click  duration  device       os province city     age  \\\n",
       "0             13      1        28  V2054A  Android       上海   上海  A_0_24   \n",
       "1             15      0         0  V2054A  Android       上海   上海  A_0_24   \n",
       "2             17      0         0  V2054A  Android       上海   上海  A_0_24   \n",
       "3             20      0         0  V2054A  Android       上海   上海  A_0_24   \n",
       "4             18      0         0  V2054A  Android       上海   上海  A_0_24   \n",
       "\n",
       "   gender               ctime img_num cat_1    cat_2  \n",
       "0  female 2021-06-29 14:46:43       3    娱乐  娱乐/港台明星  \n",
       "1  female 2021-06-27 22:29:13      11    时尚  时尚/女性时尚  \n",
       "2  female 2021-06-28 12:22:54       7    农村  农村/农业资讯  \n",
       "3  female 2021-06-29 13:25:06       5    娱乐  娱乐/港台明星  \n",
       "4  female 2021-07-02 10:43:51      18    娱乐  娱乐/港台明星  "
      ]
     },
     "execution_count": 49,
     "metadata": {},
     "output_type": "execute_result"
    }
   ],
   "source": [
    "train_data_new.head()"
   ]
  },
  {
   "cell_type": "code",
   "execution_count": 50,
   "id": "8b209079",
   "metadata": {},
   "outputs": [
    {
     "data": {
      "text/plain": [
       "user_id          0\n",
       "article_id       0\n",
       "expo_time        0\n",
       "net_status       0\n",
       "flush_nums       0\n",
       "exop_position    0\n",
       "click            0\n",
       "duration         0\n",
       "device           0\n",
       "os               0\n",
       "province         0\n",
       "city             0\n",
       "age              0\n",
       "gender           0\n",
       "ctime            0\n",
       "img_num          0\n",
       "cat_1            0\n",
       "cat_2            0\n",
       "dtype: int64"
      ]
     },
     "execution_count": 50,
     "metadata": {},
     "output_type": "execute_result"
    }
   ],
   "source": [
    "train_data_new.isnull().sum()"
   ]
  },
  {
   "cell_type": "code",
   "execution_count": 54,
   "id": "d98ef258",
   "metadata": {},
   "outputs": [
    {
     "data": {
      "text/html": [
       "<div>\n",
       "<style scoped>\n",
       "    .dataframe tbody tr th:only-of-type {\n",
       "        vertical-align: middle;\n",
       "    }\n",
       "\n",
       "    .dataframe tbody tr th {\n",
       "        vertical-align: top;\n",
       "    }\n",
       "\n",
       "    .dataframe thead th {\n",
       "        text-align: right;\n",
       "    }\n",
       "</style>\n",
       "<table border=\"1\" class=\"dataframe\">\n",
       "  <thead>\n",
       "    <tr style=\"text-align: right;\">\n",
       "      <th></th>\n",
       "      <th>user_id</th>\n",
       "      <th>article_id</th>\n",
       "      <th>expo_time</th>\n",
       "      <th>net_status</th>\n",
       "      <th>flush_nums</th>\n",
       "      <th>exop_position</th>\n",
       "      <th>click</th>\n",
       "      <th>duration</th>\n",
       "      <th>device</th>\n",
       "      <th>os</th>\n",
       "      <th>province</th>\n",
       "      <th>city</th>\n",
       "      <th>age</th>\n",
       "      <th>gender</th>\n",
       "      <th>ctime</th>\n",
       "      <th>img_num</th>\n",
       "      <th>cat_1</th>\n",
       "      <th>cat_2</th>\n",
       "    </tr>\n",
       "  </thead>\n",
       "  <tbody>\n",
       "    <tr>\n",
       "      <th>0</th>\n",
       "      <td>1000541010</td>\n",
       "      <td>464467760</td>\n",
       "      <td>2021-06-30 09:57:14</td>\n",
       "      <td>2</td>\n",
       "      <td>0</td>\n",
       "      <td>13</td>\n",
       "      <td>1</td>\n",
       "      <td>28</td>\n",
       "      <td>V2054A</td>\n",
       "      <td>Android</td>\n",
       "      <td>上海</td>\n",
       "      <td>上海</td>\n",
       "      <td>A_0_24</td>\n",
       "      <td>female</td>\n",
       "      <td>2021-06-29 14:46:43</td>\n",
       "      <td>3</td>\n",
       "      <td>娱乐</td>\n",
       "      <td>娱乐/港台明星</td>\n",
       "    </tr>\n",
       "    <tr>\n",
       "      <th>1</th>\n",
       "      <td>1000541010</td>\n",
       "      <td>463850913</td>\n",
       "      <td>2021-06-30 09:57:14</td>\n",
       "      <td>2</td>\n",
       "      <td>0</td>\n",
       "      <td>15</td>\n",
       "      <td>0</td>\n",
       "      <td>0</td>\n",
       "      <td>V2054A</td>\n",
       "      <td>Android</td>\n",
       "      <td>上海</td>\n",
       "      <td>上海</td>\n",
       "      <td>A_0_24</td>\n",
       "      <td>female</td>\n",
       "      <td>2021-06-27 22:29:13</td>\n",
       "      <td>11</td>\n",
       "      <td>时尚</td>\n",
       "      <td>时尚/女性时尚</td>\n",
       "    </tr>\n",
       "    <tr>\n",
       "      <th>2</th>\n",
       "      <td>1000541010</td>\n",
       "      <td>464022440</td>\n",
       "      <td>2021-06-30 09:57:14</td>\n",
       "      <td>2</td>\n",
       "      <td>0</td>\n",
       "      <td>17</td>\n",
       "      <td>0</td>\n",
       "      <td>0</td>\n",
       "      <td>V2054A</td>\n",
       "      <td>Android</td>\n",
       "      <td>上海</td>\n",
       "      <td>上海</td>\n",
       "      <td>A_0_24</td>\n",
       "      <td>female</td>\n",
       "      <td>2021-06-28 12:22:54</td>\n",
       "      <td>7</td>\n",
       "      <td>农村</td>\n",
       "      <td>农村/农业资讯</td>\n",
       "    </tr>\n",
       "    <tr>\n",
       "      <th>3</th>\n",
       "      <td>1000541010</td>\n",
       "      <td>464586545</td>\n",
       "      <td>2021-06-30 09:58:31</td>\n",
       "      <td>2</td>\n",
       "      <td>1</td>\n",
       "      <td>20</td>\n",
       "      <td>0</td>\n",
       "      <td>0</td>\n",
       "      <td>V2054A</td>\n",
       "      <td>Android</td>\n",
       "      <td>上海</td>\n",
       "      <td>上海</td>\n",
       "      <td>A_0_24</td>\n",
       "      <td>female</td>\n",
       "      <td>2021-06-29 13:25:06</td>\n",
       "      <td>5</td>\n",
       "      <td>娱乐</td>\n",
       "      <td>娱乐/港台明星</td>\n",
       "    </tr>\n",
       "    <tr>\n",
       "      <th>4</th>\n",
       "      <td>1000541010</td>\n",
       "      <td>465352885</td>\n",
       "      <td>2021-07-03 18:13:03</td>\n",
       "      <td>5</td>\n",
       "      <td>0</td>\n",
       "      <td>18</td>\n",
       "      <td>0</td>\n",
       "      <td>0</td>\n",
       "      <td>V2054A</td>\n",
       "      <td>Android</td>\n",
       "      <td>上海</td>\n",
       "      <td>上海</td>\n",
       "      <td>A_0_24</td>\n",
       "      <td>female</td>\n",
       "      <td>2021-07-02 10:43:51</td>\n",
       "      <td>18</td>\n",
       "      <td>娱乐</td>\n",
       "      <td>娱乐/港台明星</td>\n",
       "    </tr>\n",
       "  </tbody>\n",
       "</table>\n",
       "</div>"
      ],
      "text/plain": [
       "      user_id  article_id           expo_time  net_status  flush_nums  \\\n",
       "0  1000541010   464467760 2021-06-30 09:57:14           2           0   \n",
       "1  1000541010   463850913 2021-06-30 09:57:14           2           0   \n",
       "2  1000541010   464022440 2021-06-30 09:57:14           2           0   \n",
       "3  1000541010   464586545 2021-06-30 09:58:31           2           1   \n",
       "4  1000541010   465352885 2021-07-03 18:13:03           5           0   \n",
       "\n",
       "   exop_position  click  duration  device       os province city     age  \\\n",
       "0             13      1        28  V2054A  Android       上海   上海  A_0_24   \n",
       "1             15      0         0  V2054A  Android       上海   上海  A_0_24   \n",
       "2             17      0         0  V2054A  Android       上海   上海  A_0_24   \n",
       "3             20      0         0  V2054A  Android       上海   上海  A_0_24   \n",
       "4             18      0         0  V2054A  Android       上海   上海  A_0_24   \n",
       "\n",
       "   gender               ctime img_num cat_1    cat_2  \n",
       "0  female 2021-06-29 14:46:43       3    娱乐  娱乐/港台明星  \n",
       "1  female 2021-06-27 22:29:13      11    时尚  时尚/女性时尚  \n",
       "2  female 2021-06-28 12:22:54       7    农村  农村/农业资讯  \n",
       "3  female 2021-06-29 13:25:06       5    娱乐  娱乐/港台明星  \n",
       "4  female 2021-07-02 10:43:51      18    娱乐  娱乐/港台明星  "
      ]
     },
     "execution_count": 54,
     "metadata": {},
     "output_type": "execute_result"
    }
   ],
   "source": [
    "train_data_new.head()"
   ]
  },
  {
   "cell_type": "code",
   "execution_count": 55,
   "id": "8dac7e38",
   "metadata": {},
   "outputs": [],
   "source": [
    "train_data_new.to_csv('data_process/train_data.csv')"
   ]
  },
  {
   "cell_type": "markdown",
   "id": "99f45da8",
   "metadata": {},
   "source": [
    "新保存的数据集里面小问题记录：\n",
    "1. 这里面很多被点击的新闻并没有新闻画像\n",
    "2. 好多新闻的曝光时间要大于创建时间，这其实是错误数据， 考虑到数据量的关系，先不做处理\n",
    "\n",
    "这些问题， 通过重新采样， 重新处理数据得以解决"
   ]
  }
 ],
 "metadata": {
  "kernelspec": {
   "display_name": "Python 3 (ipykernel)",
   "language": "python",
   "name": "python3"
  },
  "language_info": {
   "codemirror_mode": {
    "name": "ipython",
    "version": 3
   },
   "file_extension": ".py",
   "mimetype": "text/x-python",
   "name": "python",
   "nbconvert_exporter": "python",
   "pygments_lexer": "ipython3",
   "version": "3.7.10"
  }
 },
 "nbformat": 4,
 "nbformat_minor": 5
}
